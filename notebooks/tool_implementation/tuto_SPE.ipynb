{
 "cells": [
  {
   "cell_type": "code",
   "execution_count": 1,
   "metadata": {},
   "outputs": [
    {
     "name": "stderr",
     "output_type": "stream",
     "text": [
      "/home/ggroller/.conda/envs/nectarchain/lib/python3.11/site-packages/tqdm/auto.py:21: TqdmWarning: IProgress not found. Please update jupyter and ipywidgets. See https://ipywidgets.readthedocs.io/en/stable/user_install.html\n",
      "  from .autonotebook import tqdm as notebook_tqdm\n",
      "2024-01-12 11:10:27,854 numexpr.utils INFO Note: NumExpr detected 16 cores but \"NUMEXPR_MAX_THREADS\" not set, so enforcing safe limit of 8.\n",
      "2024-01-12 11:10:27,855 numexpr.utils INFO NumExpr defaulting to 8 threads.\n",
      "2024-01-12 11:10:33,579 ctapipe.core.provenance INFO No activity has been explicitly started, starting new default activity. Consider calling Provenance().start_activity(<name>) explicitly.\n",
      "2024-01-12 11:10:35,171 ctapipe.core.plugins INFO Loading ctapipe_io plugin: ctapipe.io.hdf5eventsource:HDF5EventSource\n",
      "2024-01-12 11:10:35,173 ctapipe.core.plugins INFO Entrypoint provides: <class 'ctapipe.io.hdf5eventsource.HDF5EventSource'>\n",
      "2024-01-12 11:10:35,174 ctapipe.core.plugins INFO Loading ctapipe_io plugin: ctapipe.io.simteleventsource:SimTelEventSource\n",
      "2024-01-12 11:10:35,175 ctapipe.core.plugins INFO Entrypoint provides: <class 'ctapipe.io.simteleventsource.SimTelEventSource'>\n",
      "2024-01-12 11:10:35,176 ctapipe.core.plugins INFO Loading ctapipe_io plugin: ctapipe_io_nectarcam:NectarCAMEventSource\n",
      "2024-01-12 11:10:35,177 ctapipe.core.plugins INFO Entrypoint provides: <class 'ctapipe_io_nectarcam.NectarCAMEventSource'>\n"
     ]
    }
   ],
   "source": [
    "import logging\n",
    "import os\n",
    "import pathlib\n",
    "\n",
    "logging.basicConfig(format=\"%(asctime)s %(name)s %(levelname)s %(message)s\",level=logging.INFO)\n",
    "log = logging.getLogger(__name__)\n",
    "log.handlers = logging.getLogger(\"__main__\").handlers\n",
    "\n",
    "from nectarchain.makers.calibration import FlatFieldSPEHHVStdNectarCAMCalibrationTool"
   ]
  },
  {
   "cell_type": "code",
   "execution_count": 2,
   "metadata": {},
   "outputs": [
    {
     "name": "stderr",
     "output_type": "stream",
     "text": [
      "2024-01-12 11:10:35,214 nectarchain.makers.core WARNING the componentName in componentsList must be defined in the nectarchain.makers.component module, otherwise the import of the componentName will raise an error\n"
     ]
    }
   ],
   "source": [
    "run_number = 3942\n",
    "\n",
    "tool = FlatFieldSPEHHVStdNectarCAMCalibrationTool(\n",
    "                                        progress_bar = True,\n",
    "                                        method = 'LocalPeakWindowSum',\n",
    "                                        extractor_kwargs = {\"window_width\": 12, \"window_shift\": 4},\n",
    "                                        multiproc = True,\n",
    "                                        nproc = 10,\n",
    "                                        run_number = run_number,\n",
    "                                        max_events = 5000,\n",
    "                                        log_level = 20,\n",
    "                                        reload_events = True,\n",
    "                                        #events_per_slice = 200,\n",
    "                                        asked_pixels_id = [52,48],\n",
    "                                        output_path = pathlib.Path(os.environ.get(\"NECTARCAMDATA\",\"/tmp\")) / \"tutorials/\" / f\"SPEfit_{run_number}.h5\"\n",
    "                                        )\n",
    "\n"
   ]
  },
  {
   "cell_type": "code",
   "execution_count": 3,
   "metadata": {},
   "outputs": [
    {
     "name": "stderr",
     "output_type": "stream",
     "text": [
      "2024-01-12 11:10:35,241 \u001b[1;33mWARNING\u001b[0m [nectarchain.FlatFieldSPEHHVStdNectarCAM] (loader._handle_unrecognized_alias): Unrecognized alias: 'f', it will have no effect.\n",
      "2024-01-12 11:10:35,245 \u001b[1;32mINFO\u001b[0m [nectarchain.FlatFieldSPEHHVStdNectarCAM] (tool.initialize): Loading config from '[]'\n",
      "2024-01-12 11:10:35,248 \u001b[1;32mINFO\u001b[0m [nectarchain.FlatFieldSPEHHVStdNectarCAM] (tool.initialize): ctapipe version 0.19.1\n"
     ]
    }
   ],
   "source": [
    "tool.initialize()"
   ]
  },
  {
   "cell_type": "code",
   "execution_count": 4,
   "metadata": {},
   "outputs": [
    {
     "name": "stderr",
     "output_type": "stream",
     "text": [
      "2024-01-12 11:10:35,259 \u001b[1;32mINFO\u001b[0m [nectarchain.FlatFieldSPEHHVStdNectarCAM] (core.setup): setup of the Tool\n",
      "2024-01-12 11:10:35,364 \u001b[1;32mINFO\u001b[0m [nectarchain.data.management] (management.findrun): Found 4 files matching /data/users/ggroller/NECTARCAM/runs/NectarCAM.Run3942.*.fits.fz\n",
      "2024-01-12 11:10:35,366 \u001b[1;32mINFO\u001b[0m [nectarchain.makers.core] (core.load_run): /data/users/ggroller/NECTARCAM/runs/NectarCAM.Run3942.*.fits.fz will be loaded\n",
      "2024-01-12 11:10:35,368 \u001b[1;32mINFO\u001b[0m [nectarchain.data.container.eventSource.LightNectarCAMEventSource] (eventsource.__init__): INPUT PATH = /data/users/ggroller/NECTARCAM/runs/NectarCAM.Run3942.0000.fits.fz\n",
      "2024-01-12 11:10:35,369 \u001b[1;32mINFO\u001b[0m [nectarchain.data.container.eventSource.LightNectarCAMEventSource] (eventsource.__init__): Max events being read = 5000\n",
      "2024-01-12 11:10:37,155 \u001b[1;32mINFO\u001b[0m [nectarchain.data.container.eventSource.LightNectarCAMEventSource] (__init__.__init__): Read 4 input files\n",
      "2024-01-12 11:10:37,196 ctapipe.io.hdf5tableio.HDF5TableReader WARNING Table /tel_0/calibration is missing column time_correction for field time_correction of container <class 'ctapipe.containers.WaveformCalibrationContainer'>. It will be skipped.\n",
      "2024-01-12 11:10:37,198 ctapipe.io.hdf5tableio.HDF5TableReader WARNING Table /tel_0/calibration is missing column n_pe for field n_pe of container <class 'ctapipe.containers.WaveformCalibrationContainer'>. It will be skipped.\n",
      "2024-01-12 11:10:37,245 ctapipe.io.hdf5tableio.HDF5TableReader WARNING Table /tel_0/flatfield is missing column charge_mean for field charge_mean of container <class 'ctapipe.containers.FlatFieldContainer'>. It will be skipped.\n",
      "2024-01-12 11:10:37,246 ctapipe.io.hdf5tableio.HDF5TableReader WARNING Table /tel_0/flatfield is missing column charge_median for field charge_median of container <class 'ctapipe.containers.FlatFieldContainer'>. It will be skipped.\n",
      "2024-01-12 11:10:37,247 ctapipe.io.hdf5tableio.HDF5TableReader WARNING Table /tel_0/flatfield is missing column charge_std for field charge_std of container <class 'ctapipe.containers.FlatFieldContainer'>. It will be skipped.\n",
      "2024-01-12 11:10:37,248 ctapipe.io.hdf5tableio.HDF5TableReader WARNING Table /tel_0/flatfield is missing column time_mean for field time_mean of container <class 'ctapipe.containers.FlatFieldContainer'>. It will be skipped.\n",
      "2024-01-12 11:10:37,249 ctapipe.io.hdf5tableio.HDF5TableReader WARNING Table /tel_0/flatfield is missing column time_median for field time_median of container <class 'ctapipe.containers.FlatFieldContainer'>. It will be skipped.\n",
      "2024-01-12 11:10:37,250 ctapipe.io.hdf5tableio.HDF5TableReader WARNING Table /tel_0/flatfield is missing column time_std for field time_std of container <class 'ctapipe.containers.FlatFieldContainer'>. It will be skipped.\n",
      "2024-01-12 11:10:37,251 ctapipe.io.hdf5tableio.HDF5TableReader WARNING Table /tel_0/flatfield is missing column relative_gain_median for field relative_gain_median of container <class 'ctapipe.containers.FlatFieldContainer'>. It will be skipped.\n",
      "2024-01-12 11:10:37,251 ctapipe.io.hdf5tableio.HDF5TableReader WARNING Table /tel_0/flatfield is missing column relative_gain_std for field relative_gain_std of container <class 'ctapipe.containers.FlatFieldContainer'>. It will be skipped.\n",
      "2024-01-12 11:10:37,252 ctapipe.io.hdf5tableio.HDF5TableReader WARNING Table /tel_0/flatfield is missing column relative_time_median for field relative_time_median of container <class 'ctapipe.containers.FlatFieldContainer'>. It will be skipped.\n",
      "2024-01-12 11:10:37,253 ctapipe.io.hdf5tableio.HDF5TableReader WARNING Table /tel_0/flatfield is missing column charge_median_outliers for field charge_median_outliers of container <class 'ctapipe.containers.FlatFieldContainer'>. It will be skipped.\n",
      "2024-01-12 11:10:37,254 ctapipe.io.hdf5tableio.HDF5TableReader WARNING Table /tel_0/flatfield is missing column charge_std_outliers for field charge_std_outliers of container <class 'ctapipe.containers.FlatFieldContainer'>. It will be skipped.\n",
      "2024-01-12 11:10:37,255 ctapipe.io.hdf5tableio.HDF5TableReader WARNING Table /tel_0/flatfield is missing column time_median_outliers for field time_median_outliers of container <class 'ctapipe.containers.FlatFieldContainer'>. It will be skipped.\n",
      "2024-01-12 11:10:37,261 \u001b[1;32mINFO\u001b[0m [nectarchain.FlatFieldSPEHHVStdNectarCAM] (core._setup_components): setup of components\n",
      "2024-01-12 11:10:37,265 \u001b[1;32mINFO\u001b[0m [nectarchain.FlatFieldSPEHHVStdNectarCAM] (core._init_writer): initilization of writter in full mode\n"
     ]
    }
   ],
   "source": [
    "tool.setup()"
   ]
  },
  {
   "cell_type": "code",
   "execution_count": 5,
   "metadata": {},
   "outputs": [
    {
     "name": "stderr",
     "output_type": "stream",
     "text": [
      "2024-01-12 11:10:37,431 \u001b[1;33mWARNING\u001b[0m [nectarchain.FlatFieldSPEHHVStdNectarCAM] (core.start): neither needed events number specified or events per slice, it may cause a memory error\n",
      "LightNectarCAMEventSource:   0%|          | 0/5000 [00:00<?, ?ev/s]2024-01-12 11:10:37,462 \u001b[1;32mINFO\u001b[0m [nectarchain.makers.component.chargesComponent] (chargesComponent._init_trigger_type): initialization of the ChargesMaker following trigger type : FLATFIELD\n",
      "LightNectarCAMEventSource: 100%|██████████| 5000/5000 [01:12<00:00, 68.70ev/s]\n"
     ]
    }
   ],
   "source": [
    "tool.start()"
   ]
  },
  {
   "cell_type": "code",
   "execution_count": 7,
   "metadata": {},
   "outputs": [
    {
     "name": "stderr",
     "output_type": "stream",
     "text": [
      "2024-01-12 11:12:17,060 \u001b[1;32mINFO\u001b[0m [nectarchain.FlatFieldSPEHHVStdNectarCAM] (core.finish): finishing Tool\n",
      "2024-01-12 11:12:17,062 \u001b[1;32mINFO\u001b[0m [nectarchain.FlatFieldSPEHHVStdNectarCAM] (core._finish_components): finishing components and writting to output file\n",
      "2024-01-12 11:12:24,465 \u001b[1;32mINFO\u001b[0m [nectarchain.FlatFieldSPEHHVStdNectarCAM.FlatFieldSingleHHVSPEStdNectarCAMComponent.SPEHHVStdalgorithm] (spe_algorithm.__fix_parameters): updating parameters by fixing pp and n\n",
      "2024-01-12 11:12:24,468 \u001b[1;32mINFO\u001b[0m [nectarchain.FlatFieldSPEHHVStdNectarCAM.FlatFieldSingleHHVSPEStdNectarCAMComponent.SPEHHVStdalgorithm] (spe_algorithm.run): running maker\n",
      "2024-01-12 11:12:24,469 \u001b[1;32mINFO\u001b[0m [nectarchain.FlatFieldSPEHHVStdNectarCAM.FlatFieldSingleHHVSPEStdNectarCAMComponent.SPEHHVStdalgorithm] (spe_algorithm.run): checking asked pixels id\n",
      "2024-01-12 11:12:24,471 \u001b[1;32mINFO\u001b[0m [nectarchain.FlatFieldSPEHHVStdNectarCAM.FlatFieldSingleHHVSPEStdNectarCAMComponent.SPEHHVStdalgorithm] (spe_algorithm.run): creation of the fits instance array\n",
      "2024-01-12 11:12:24,524 \u001b[1;32mINFO\u001b[0m [nectarchain.FlatFieldSPEHHVStdNectarCAM.FlatFieldSingleHHVSPEStdNectarCAMComponent.SPEHHVStdalgorithm] (spe_algorithm._make_fit_array_from_parameters): creation of fit instance for pixel: 52\n",
      "2024-01-12 11:12:24,578 \u001b[1;32mINFO\u001b[0m [nectarchain.FlatFieldSPEHHVStdNectarCAM.FlatFieldSingleHHVSPEStdNectarCAMComponent.SPEHHVStdalgorithm] (spe_algorithm._make_fit_array_from_parameters): creation of fit instance for pixel: 48\n",
      "2024-01-12 11:12:24,580 \u001b[1;32mINFO\u001b[0m [nectarchain.FlatFieldSPEHHVStdNectarCAM.FlatFieldSingleHHVSPEStdNectarCAMComponent.SPEHHVStdalgorithm] (spe_algorithm.run): running fits\n",
      "2024-01-12 11:12:24,581 \u001b[1;32mINFO\u001b[0m [nectarchain.FlatFieldSPEHHVStdNectarCAM.FlatFieldSingleHHVSPEStdNectarCAMComponent.SPEHHVStdalgorithm] (spe_algorithm.run): pooling with nproc 10, chunksize 1\n",
      "2024-01-12 11:12:24,940 \u001b[1;32mINFO\u001b[0m [nectarchain.makers.component.spe.spe_algorithm] (spe_algorithm.run_fit): Starting\n",
      "2024-01-12 11:12:24,940 \u001b[1;32mINFO\u001b[0m [nectarchain.makers.component.spe.spe_algorithm] (spe_algorithm.run_fit): Starting\n",
      "2024-01-12 11:12:30,359 \u001b[1;32mINFO\u001b[0m [nectarchain.makers.component.spe.spe_algorithm] (spe_algorithm.run_fit): Finished\n",
      "2024-01-12 11:12:31,484 \u001b[1;32mINFO\u001b[0m [nectarchain.makers.component.spe.spe_algorithm] (spe_algorithm.run_fit): Finished\n",
      "2024-01-12 11:12:31,555 \u001b[1;32mINFO\u001b[0m [nectarchain.FlatFieldSPEHHVStdNectarCAM.FlatFieldSingleHHVSPEStdNectarCAMComponent.SPEHHVStdalgorithm] (spe_algorithm.run): time for multiproc with starmap_async execution is 6.97e+00 sec\n",
      "2024-01-12 11:12:31,557 \u001b[1;32mINFO\u001b[0m [nectarchain.FlatFieldSPEHHVStdNectarCAM.FlatFieldSingleHHVSPEStdNectarCAMComponent.SPEHHVStdalgorithm] (spe_algorithm.run): filling result table from fits results\n",
      "2024-01-12 11:12:32,038 \u001b[1;32mINFO\u001b[0m [nectarchain.FlatFieldSPEHHVStdNectarCAM.FlatFieldSingleHHVSPEStdNectarCAMComponent.SPEHHVStdalgorithm] (spe_algorithm.run): plotting\n",
      "2024-01-12 11:12:37,677 \u001b[1;32mINFO\u001b[0m [nectarchain.makers.component.spe.spe_algorithm] (spe_algorithm.run): time for plotting 2 pixels : 5.64e+00 sec\n",
      "2024-01-12 11:12:37,682 \u001b[1;32mINFO\u001b[0m [nectarchain.FlatFieldSPEHHVStdNectarCAM.FlatFieldSingleHHVSPEStdNectarCAMComponent] (FlatFieldSPEComponent.finish): convergence rate : 1.0\n",
      "2024-01-12 11:12:37,686 \u001b[1;32mINFO\u001b[0m [nectarchain.makers.core] (core._finish_components): [nectarchain.data.container.gainContainer.SPEfitContainer:\n",
      "                      is_valid: is_valid with default None as a 1-D array with\n",
      "                                dtype bool with type <class 'numpy.ndarray'>\n",
      "                     high_gain: high gain with default None as a 2-D array with\n",
      "                                dtype float64 with type <class 'numpy.ndarray'>\n",
      "                      low_gain: low gain with default None as a 2-D array with\n",
      "                                dtype float64 with type <class 'numpy.ndarray'>\n",
      "                     pixels_id: pixel ids with default None as a 1-D array with\n",
      "                                dtype uint16 with type <class 'numpy.ndarray'>\n",
      "                    likelihood: likelihood with default None as a 1-D array with\n",
      "                                dtype float64 with type <class 'numpy.ndarray'>\n",
      "                       p_value: p_value with default None as a 1-D array with\n",
      "                                dtype float64 with type <class 'numpy.ndarray'>\n",
      "                      pedestal: pedestal with default None as a 2-D array with\n",
      "                                dtype float64 with type <class 'numpy.ndarray'>\n",
      "                 pedestalWidth: pedestalWidth with default None as a 2-D array\n",
      "                                with dtype float64 with type <class\n",
      "                                'numpy.ndarray'>\n",
      "                    resolution: resolution with default None as a 2-D array with\n",
      "                                dtype float64 with type <class 'numpy.ndarray'>\n",
      "                    luminosity: luminosity with default None as a 2-D array with\n",
      "                                dtype float64 with type <class 'numpy.ndarray'>\n",
      "                          mean: mean with default None as a 2-D array with dtype\n",
      "                                float64 with type <class 'numpy.ndarray'>\n",
      "                             n: n with default None as a 2-D array with dtype\n",
      "                                float64 with type <class 'numpy.ndarray'>\n",
      "                            pp: pp with default None as a 2-D array with dtype\n",
      "                                float64 with type <class 'numpy.ndarray'>]\n",
      "2024-01-12 11:12:37,729 \u001b[1;32mINFO\u001b[0m [nectarchain.FlatFieldSPEHHVStdNectarCAM] (tool.finish): Goodbye\n",
      "2024-01-12 11:12:37,730 \u001b[1;33mWARNING\u001b[0m [nectarchain.FlatFieldSPEHHVStdNectarCAM] (core.finish): Shutting down.\n"
     ]
    },
    {
     "data": {
      "text/plain": [
       "[nectarchain.data.container.gainContainer.SPEfitContainer:\n",
       "                       is_valid: is_valid with default None as a 1-D array with\n",
       "                                 dtype bool with type <class 'numpy.ndarray'>\n",
       "                      high_gain: high gain with default None as a 2-D array with\n",
       "                                 dtype float64 with type <class 'numpy.ndarray'>\n",
       "                       low_gain: low gain with default None as a 2-D array with\n",
       "                                 dtype float64 with type <class 'numpy.ndarray'>\n",
       "                      pixels_id: pixel ids with default None as a 1-D array with\n",
       "                                 dtype uint16 with type <class 'numpy.ndarray'>\n",
       "                     likelihood: likelihood with default None as a 1-D array with\n",
       "                                 dtype float64 with type <class 'numpy.ndarray'>\n",
       "                        p_value: p_value with default None as a 1-D array with\n",
       "                                 dtype float64 with type <class 'numpy.ndarray'>\n",
       "                       pedestal: pedestal with default None as a 2-D array with\n",
       "                                 dtype float64 with type <class 'numpy.ndarray'>\n",
       "                  pedestalWidth: pedestalWidth with default None as a 2-D array\n",
       "                                 with dtype float64 with type <class\n",
       "                                 'numpy.ndarray'>\n",
       "                     resolution: resolution with default None as a 2-D array with\n",
       "                                 dtype float64 with type <class 'numpy.ndarray'>\n",
       "                     luminosity: luminosity with default None as a 2-D array with\n",
       "                                 dtype float64 with type <class 'numpy.ndarray'>\n",
       "                           mean: mean with default None as a 2-D array with dtype\n",
       "                                 float64 with type <class 'numpy.ndarray'>\n",
       "                              n: n with default None as a 2-D array with dtype\n",
       "                                 float64 with type <class 'numpy.ndarray'>\n",
       "                             pp: pp with default None as a 2-D array with dtype\n",
       "                                 float64 with type <class 'numpy.ndarray'>]"
      ]
     },
     "execution_count": 7,
     "metadata": {},
     "output_type": "execute_result"
    }
   ],
   "source": [
    "output = tool.finish(return_output_component = True, display=True,figpath = os.getcwd())\n",
    "output"
   ]
  },
  {
   "cell_type": "code",
   "execution_count": null,
   "metadata": {},
   "outputs": [],
   "source": []
  }
 ],
 "metadata": {
  "kernelspec": {
   "display_name": "nectarchain",
   "language": "python",
   "name": "python3"
  },
  "language_info": {
   "codemirror_mode": {
    "name": "ipython",
    "version": 3
   },
   "file_extension": ".py",
   "mimetype": "text/x-python",
   "name": "python",
   "nbconvert_exporter": "python",
   "pygments_lexer": "ipython3",
   "version": "3.11.5"
  }
 },
 "nbformat": 4,
 "nbformat_minor": 2
}
