{
 "cells": [
  {
   "cell_type": "markdown",
   "metadata": {},
   "source": [
    "# Tutorial to use ctapipe tools and component "
   ]
  },
  {
   "cell_type": "markdown",
   "metadata": {},
   "source": [
    "## Context"
   ]
  },
  {
   "cell_type": "markdown",
   "metadata": {},
   "source": [
    "Tool and Component are 2 modules of ctapipe, Tool is a high level module to analyse raw data (fits.fz files). This module use Component to perform computation on the raw data. Basically, we can create a class (MyTool) which inherits of Tool, where we can define 2 Component (Comp_A and Comp_B). Thus, with an instance of MyTool, we can loop over event within raw data, and for each event apply sucessively Comp_A, Comp_B. \n",
    "\n",
    "A ctapipe tutorial is accessible here : https://ctapipe.readthedocs.io/en/stable/auto_examples/core/command_line_tools.html#sphx-glr-auto-examples-core-command-line-tools-py\n",
    "\n",
    "You can find documentation of ctapipe Tool and Component : \n",
    "\n",
    "https://ctapipe.readthedocs.io/en/stable/api-reference/tools/index.html\n",
    "\n",
    "\n",
    "https://ctapipe.readthedocs.io/en/stable/api/ctapipe.core.Component.html\n",
    "\n",
    "Within nectarchain, we implemented within the nectarchain.makers module both a top level Tool and Component from which all the nectarchain Component and Tool should inherit.\n",
    "\n",
    "In this tutorial, we explain quickly how we can use Tool and Component to develop the nectarchain software, as an example there is the implementation of a PedestalTool which extract pedestal   "
   ]
  },
  {
   "cell_type": "markdown",
   "metadata": {},
   "source": [
    "### Imports"
   ]
  },
  {
   "cell_type": "code",
   "execution_count": 1,
   "metadata": {},
   "outputs": [
    {
     "name": "stderr",
     "output_type": "stream",
     "text": [
      "/home/ggroller/.conda/envs/nectarchain/lib/python3.11/site-packages/tqdm/auto.py:21: TqdmWarning: IProgress not found. Please update jupyter and ipywidgets. See https://ipywidgets.readthedocs.io/en/stable/user_install.html\n",
      "  from .autonotebook import tqdm as notebook_tqdm\n"
     ]
    }
   ],
   "source": [
    "import numpy as np\n",
    "import pathlib\n",
    "import os\n",
    "\n",
    "import matplotlib.pyplot as plt\n",
    "\n",
    "from ctapipe_io_nectarcam.containers import NectarCAMDataContainer\n",
    "from ctapipe_io_nectarcam import constants\n",
    "\n",
    "from ctapipe.core.traits import ComponentNameList\n",
    "from ctapipe.containers import Field\n",
    "from ctapipe.core.traits import Integer\n",
    "from ctapipe.core import Component\n",
    "from ctapipe.io import HDF5TableReader\n",
    "\n",
    "\n",
    "from nectarchain.makers import EventsLoopNectarCAMCalibrationTool\n",
    "from nectarchain.makers.component import NectarCAMComponent, ArrayDataComponent\n",
    "from nectarchain.data.container import (\n",
    "    NectarCAMContainer,\n",
    "    ArrayDataContainer,\n",
    "    TriggerMapContainer,\n",
    ")\n",
    "from nectarchain.utils import ComponentUtils"
   ]
  },
  {
   "cell_type": "code",
   "execution_count": 2,
   "metadata": {},
   "outputs": [
    {
     "name": "stderr",
     "output_type": "stream",
     "text": [
      "2024-01-12 16:42:05,923 nectarchain.makers.core WARNING the componentName in componentsList must be defined in the nectarchain.makers.component module, otherwise the import of the componentName will raise an error\n"
     ]
    },
    {
     "data": {
      "text/html": [
       "<b>EventsLoopNectarCAMCalibrationTool</b>\n",
       "<p> <div class=\"document\">\n",
       "<p>A class for data processing and computation on events from a specific run.</p>\n",
       "<dl class=\"docutils\">\n",
       "<dt>Args:</dt>\n",
       "<dd>run_number (int): The ID of the run to be processed.\n",
       "max_events (int, optional): The maximum number of events to be loaded. Defaults to None.\n",
       "run_file (optional): The specific run file to be loaded.</dd>\n",
       "<dt>Example Usage:</dt>\n",
       "<dd>maker = EventsLoopMaker(run_number=1234, max_events=1000)\n",
       "maker.make(n_events=500)</dd>\n",
       "</dl>\n",
       "</div>\n",
       " </p>\n",
       "<table>\n",
       "    <colgroup>\n",
       "        <col span='1' style=' '>\n",
       "        <col span='1' style='width: 20em;'>\n",
       "        <col span='1' >\n",
       "    </colgroup>\n",
       "    <tbody>\n",
       "<tr><th>componentsList</th>\n",
       "<td style='text-align: left;'><span style='color:blue; max-width:30em;'>[]</span></td>\n",
       "<td style='text-align: left;'><i>. Possible values: ['ChargesComponent', 'WaveformsComponent', 'FlatFieldSingleNominalSPENectarCAMComponent', 'PhotoStatisticNectarCAMComponent', 'FlatFieldSingleNominalSPEStdNectarCAMComponent', 'FlatFieldSingleHHVSPENectarCAMComponent', 'FlatFieldSingleHHVSPEStdNectarCAMComponent', 'FlatFieldCombinedSPEStdNectarCAMComponent'] (default: traitlets.Undefined)</i></td></tr>\n",
       "<tr><th>config_files</th>\n",
       "<td style='text-align: left;'><span style='color:blue; max-width:30em;'>[]</span></td>\n",
       "<td style='text-align: left;'><i> (default: traitlets.Undefined)</i></td></tr>\n",
       "<tr><th>events_per_slice</th>\n",
       "<td style='text-align: left;'>None</td>\n",
       "<td style='text-align: left;'><i>number of events that will be treat before to pull the buffer and write to disk, if None, all the events will be loaded (default: None)</i></td></tr>\n",
       "<tr><th>log_config</th>\n",
       "<td style='text-align: left;'><span style='color:blue; max-width:30em;'>{}</span></td>\n",
       "<td style='text-align: left;'><i> (default: traitlets.Undefined)</i></td></tr>\n",
       "<tr><th>log_datefmt</th>\n",
       "<td style='text-align: left;'>%Y-%m-%d %H:%M:%S</td>\n",
       "<td style='text-align: left;'><i>The date format used by logging formatters for %(asctime)s (default: %Y-%m-%d %H:%M:%S)</i></td></tr>\n",
       "<tr><th>log_file</th>\n",
       "<td style='text-align: left;'>None</td>\n",
       "<td style='text-align: left;'><i>Filename for the log (default: None)</i></td></tr>\n",
       "<tr><th>log_file_level</th>\n",
       "<td style='text-align: left;'>INFO</td>\n",
       "<td style='text-align: left;'><i>Logging Level for File Logging (default: INFO)</i></td></tr>\n",
       "<tr><th>log_format</th>\n",
       "<td style='text-align: left;'>[%(name)s]%(highlevel)s %(message)s</td>\n",
       "<td style='text-align: left;'><i>The Logging format template (default: [%(name)s]%(highlevel)s %(message)s)</i></td></tr>\n",
       "<tr><th>log_level</th>\n",
       "<td style='text-align: left;'>30</td>\n",
       "<td style='text-align: left;'><i>Set the log level by value or name. (default: 30)</i></td></tr>\n",
       "<tr><th>logging_config</th>\n",
       "<td style='text-align: left;'><span style='color:blue; max-width:30em;'>{}</span></td>\n",
       "<td style='text-align: left;'><i> (default: traitlets.Undefined)</i></td></tr>\n",
       "<tr><th>max_events</th>\n",
       "<td style='text-align: left;'>None</td>\n",
       "<td style='text-align: left;'><i>maximum number of events to be loaded (default: None)</i></td></tr>\n",
       "<tr><th>output_path</th>\n",
       "<td style='text-align: left;'>/<wbr>data/<wbr>users/<wbr>ggroller/<wbr>NECTARCAM/<wbr>runs/<wbr>EventsLoopNectarCAMCalibration_<wbr>run-1.h5</td>\n",
       "<td style='text-align: left;'><i>output filename (default: /data/users/ggroller/NECTARCAM/runs/EventsLoopNectarCAMCalibration_run-1.h5)</i></td></tr>\n",
       "<tr><th>overwrite</th>\n",
       "<td style='text-align: left;'>False</td>\n",
       "<td style='text-align: left;'><i> (default: False)</i></td></tr>\n",
       "<tr><th>progress_bar</th>\n",
       "<td style='text-align: left;'>False</td>\n",
       "<td style='text-align: left;'><i>show progress bar during processing (default: False)</i></td></tr>\n",
       "<tr><th>provenance_log</th>\n",
       "<td style='text-align: left;'><span style='color:blue; max-width:30em;'>/<wbr>home/<wbr>ggroller/<wbr>projects/<wbr>nectarchain/<wbr>notebooks/<wbr>tool_<wbr>implementation/<wbr>EventsLoopNectarCAMCalibration.provenance.log</span></td>\n",
       "<td style='text-align: left;'><i> (default: traitlets.Undefined)</i></td></tr>\n",
       "<tr><th>quiet</th>\n",
       "<td style='text-align: left;'>False</td>\n",
       "<td style='text-align: left;'><i> (default: False)</i></td></tr>\n",
       "<tr><th>run_file</th>\n",
       "<td style='text-align: left;'>None</td>\n",
       "<td style='text-align: left;'><i>file name to be loaded (default: None)</i></td></tr>\n",
       "<tr><th>run_number</th>\n",
       "<td style='text-align: left;'>-1</td>\n",
       "<td style='text-align: left;'><i>run number to be treated (default: -1)</i></td></tr>\n",
       "<tr><th>show_config</th>\n",
       "<td style='text-align: left;'>False</td>\n",
       "<td style='text-align: left;'><i>Instead of starting the Application, dump configuration to stdout (default: False)</i></td></tr>\n",
       "<tr><th>show_config_json</th>\n",
       "<td style='text-align: left;'>False</td>\n",
       "<td style='text-align: left;'><i>Instead of starting the Application, dump configuration to stdout (as JSON) (default: False)</i></td></tr>\n",
       "    </tbody>\n",
       "</table>\n",
       "<p><b>Components:</b>\n",
       "EventsLoopNectarCAMCalibrationTool, HDF5TableWriter, LightNectarCAMEventSource, NectarCAMComponent, ChargesComponent, WaveformsComponent, FlatFieldSingleNominalSPENectarCAMComponent, PhotoStatisticNectarCAMComponent, FlatFieldSingleNominalSPEStdNectarCAMComponent, FlatFieldSingleHHVSPENectarCAMComponent, FlatFieldSingleHHVSPEStdNectarCAMComponent, FlatFieldCombinedSPEStdNectarCAMComponent\n",
       "</p>\n",
       "</div>"
      ],
      "text/plain": [
       "<nectarchain.makers.core.EventsLoopNectarCAMCalibrationTool at 0x7f3ce07b8590>"
      ]
     },
     "execution_count": 2,
     "metadata": {},
     "output_type": "execute_result"
    }
   ],
   "source": [
    "tools = EventsLoopNectarCAMCalibrationTool()\n",
    "tools"
   ]
  },
  {
   "cell_type": "code",
   "execution_count": 4,
   "metadata": {},
   "outputs": [
    {
     "data": {
      "text/plain": [
       "[nectarchain.makers.core.EventsLoopNectarCAMCalibrationTool,\n",
       " ctapipe.io.hdf5tableio.HDF5TableWriter,\n",
       " nectarchain.data.container.eventSource.LightNectarCAMEventSource,\n",
       " nectarchain.makers.component.core.NectarCAMComponent,\n",
       " nectarchain.makers.component.chargesComponent.ChargesComponent,\n",
       " nectarchain.makers.component.waveformsComponent.WaveformsComponent,\n",
       " nectarchain.makers.component.FlatFieldSPEComponent.FlatFieldSingleNominalSPENectarCAMComponent,\n",
       " nectarchain.makers.component.photostatistic_component.PhotoStatisticNectarCAMComponent,\n",
       " nectarchain.makers.component.FlatFieldSPEComponent.FlatFieldSingleNominalSPEStdNectarCAMComponent,\n",
       " nectarchain.makers.component.FlatFieldSPEComponent.FlatFieldSingleHHVSPENectarCAMComponent,\n",
       " nectarchain.makers.component.FlatFieldSPEComponent.FlatFieldSingleHHVSPEStdNectarCAMComponent,\n",
       " nectarchain.makers.component.FlatFieldSPEComponent.FlatFieldCombinedSPEStdNectarCAMComponent]"
      ]
     },
     "execution_count": 4,
     "metadata": {},
     "output_type": "execute_result"
    }
   ],
   "source": [
    "tools.classes"
   ]
  },
  {
   "cell_type": "markdown",
   "metadata": {},
   "source": [
    "The only thing to add to to fill the componentList field, which contains the names of the component to be apply on events. \n",
    "\n",
    "Then we will define a very simple component to compute the pedestal of each events. "
   ]
  },
  {
   "cell_type": "markdown",
   "metadata": {},
   "source": [
    "### Definition of container to store extracted data on disk"
   ]
  },
  {
   "cell_type": "code",
   "execution_count": 11,
   "metadata": {},
   "outputs": [],
   "source": [
    "class MyContainer(NectarCAMContainer):\n",
    "    run_number = Field(\n",
    "        type=np.uint16,\n",
    "        description=\"run number associated to the waveforms\",\n",
    "    )\n",
    "    npixels = Field(\n",
    "        type=np.uint16,\n",
    "        description=\"number of effective pixels\",\n",
    "    )\n",
    "    pixels_id = Field(type=np.ndarray, dtype=np.uint16, ndim=1, description=\"pixel ids\")\n",
    "    ucts_timestamp = Field(\n",
    "        type=np.ndarray, dtype=np.uint64, ndim=1, description=\"events ucts timestamp\"\n",
    "    )\n",
    "    event_type = Field(\n",
    "        type=np.ndarray, dtype=np.uint8, ndim=1, description=\"trigger event type\"\n",
    "    )\n",
    "    event_id = Field(type=np.ndarray, dtype=np.uint32, ndim=1, description=\"event ids\")\n",
    "\n",
    "    pedestal_hg = Field(\n",
    "        type=np.ndarray, dtype=np.uint16, ndim=2, description=\"The high gain pedestal\"\n",
    "    )\n",
    "    pedestal_lg = Field(\n",
    "        type=np.ndarray, dtype=np.uint16, ndim=2, description=\"The low gain pedestal\"\n",
    "    )"
   ]
  },
  {
   "cell_type": "markdown",
   "metadata": {},
   "source": [
    "### Definition of our Component"
   ]
  },
  {
   "cell_type": "code",
   "execution_count": 13,
   "metadata": {},
   "outputs": [],
   "source": [
    "class MyComp(NectarCAMComponent):\n",
    "    window_shift = Integer(\n",
    "        default_value=4,\n",
    "        help=\"the time in ns before the peak to extract charge\",\n",
    "    ).tag(config=True)\n",
    "\n",
    "    window_width = Integer(\n",
    "        default_value=12,\n",
    "        help=\"the duration of the extraction window in ns\",\n",
    "    ).tag(config=True)\n",
    "\n",
    "    def __init__(self, subarray, config=None, parent=None, *args, **kwargs):\n",
    "        super().__init__(\n",
    "            subarray=subarray, config=config, parent=parent, *args, **kwargs\n",
    "        )\n",
    "        ## If you want you can add here members of MyComp, they will contain interesting quantity during the event loop process\n",
    "\n",
    "        self.__ucts_timestamp = []\n",
    "        self.__event_type = []\n",
    "        self.__event_id = []\n",
    "\n",
    "        self.__pedestal_hg = []\n",
    "        self.__pedestal_lg = []\n",
    "\n",
    "    ##This method need to be defined !\n",
    "    def __call__(self, event: NectarCAMDataContainer, *args, **kwargs):\n",
    "        self.__event_id.append(np.uint32(event.index.event_id))\n",
    "        self.__event_type.append(event.trigger.event_type.value)\n",
    "        self.__ucts_timestamp.append(event.nectarcam.tel[0].evt.ucts_timestamp)\n",
    "\n",
    "        wfs = []\n",
    "        wfs.append(event.r0.tel[0].waveform[constants.HIGH_GAIN][self.pixels_id])\n",
    "        wfs.append(event.r0.tel[0].waveform[constants.LOW_GAIN][self.pixels_id])\n",
    "\n",
    "        #####THE JOB IS HERE######\n",
    "        for i, pedestal in enumerate([self.__pedestal_hg, self.__pedestal_lg]):\n",
    "            index_peak = np.argmax(wfs[i])\n",
    "            signal_start = index_peak - self.window_shiftclasses\n",
    "            signal_stop = index_peak + self.window_width - self.window_shift\n",
    "            if signal_start < 0:\n",
    "                signal_stop = self.window_width\n",
    "                signal_start = 0\n",
    "            if signal_stop > constants.N_SAMPLES:\n",
    "                signal_stop = constants.N_SAMPLES\n",
    "                signal_start = constants.N_SAMPLES - self.window_width\n",
    "            pedestal.append(\n",
    "                (\n",
    "                    np.sum(wfs[i][:, 0:signal_start], axis=1)\n",
    "                    + np.sum(wfs[i][:, signal_stop:], axis=1)\n",
    "                )\n",
    "                / (constants.N_SAMPLES - self.window_width)\n",
    "            )\n",
    "\n",
    "    ##This method need to be defined !\n",
    "    def finish(self):\n",
    "        output = MyContainer(\n",
    "            run_number=MyContainer.fields[\"run_number\"].type(self._run_number),\n",
    "            npixels=MyContainer.fields[\"npixels\"].type(self._npixels),\n",
    "            pixels_id=MyContainer.fields[\"pixels_id\"].dtype.type(self._pixels_id),\n",
    "            ucts_timestamp=MyContainer.fields[\"ucts_timestamp\"].dtype.type(\n",
    "                self.__ucts_timestamp\n",
    "            ),\n",
    "            event_type=MyContainer.fields[\"event_type\"].dtype.type(self.__event_type),\n",
    "            event_id=MyContainer.fields[\"event_id\"].dtype.type(self.__event_id),\n",
    "            pedestal_hg=MyContainer.fields[\"pedestal_hg\"].dtype.type(\n",
    "                self.__pedestal_hg\n",
    "            ),\n",
    "            pedestal_lg=MyContainer.fields[\"pedestal_lg\"].dtype.type(\n",
    "                self.__pedestal_lg\n",
    "            ),\n",
    "        )\n",
    "        return output"
   ]
  },
  {
   "cell_type": "markdown",
   "metadata": {},
   "source": [
    "### Definition of our Tool"
   ]
  },
  {
   "cell_type": "markdown",
   "metadata": {},
   "source": [
    "Now we can define out Tool, we have just to add our component \"MyComp\" in the ComponentList : "
   ]
  },
  {
   "cell_type": "code",
   "execution_count": 5,
   "metadata": {},
   "outputs": [],
   "source": [
    "def get_valid_component():\n",
    "    return NectarCAMComponent.non_abstract_subclasses()\n",
    "\n",
    "\n",
    "class MyTool(EventsLoopNectarCAMCalibrationTool):\n",
    "    name = \"PedestalTutoNectarCAM\"\n",
    "\n",
    "    componentsList = ComponentNameList(\n",
    "        NectarCAMComponent,\n",
    "        default_value=[\"MyComp\"],\n",
    "        help=\"List of Component names to be apply, the order will be respected\",\n",
    "    ).tag(config=True)\n",
    "\n",
    "    #######   THIS PART IS NEEDED NOW #####\n",
    "\n",
    "    # This part uis needed because the component defined outside of the nectarchain\n",
    "    # module is not accessible from the module (with eval(componentName)).\n",
    "    # This issus should be fixed soon.\n",
    "    def __new__(cls, *args, **kwargs):\n",
    "        _cls = super(EventsLoopNectarCAMCalibrationTool, cls).__new__(\n",
    "            cls, *args, **kwargs\n",
    "        )\n",
    "\n",
    "        for componentName in _cls.componentsList:\n",
    "            configurable_traits = ComponentUtils.get_configurable_traits(\n",
    "                eval(componentName)\n",
    "            )\n",
    "            _cls.add_traits(**configurable_traits)\n",
    "            _cls.aliases.update(\n",
    "                {key: f\"{componentName}.{key}\" for key in configurable_traits.keys()}\n",
    "            )\n",
    "        return _cls\n",
    "\n",
    "    def _get_provided_component_kwargs(self, componentName: str):\n",
    "        component_kwargs = ComponentUtils.get_configurable_traits(eval(componentName))\n",
    "        output_component_kwargs = {}\n",
    "        for key in component_kwargs.keys():\n",
    "            if hasattr(self, key):\n",
    "                output_component_kwargs[key] = getattr(self, key)\n",
    "        return output_component_kwargs\n",
    "\n",
    "    #####################################################################\n",
    "\n",
    "    # def __init__(self,*args,**kwargs) :\n",
    "    #       super().__init__(*args,**kwargs)\n",
    "\n",
    "    def _init_output_path(self):\n",
    "        if self.max_events is None:\n",
    "            filename = f\"{self.name}_run{self.run_number}.h5\"\n",
    "        else:\n",
    "            filename = f\"{self.name}_run{self.run_number}_maxevents{self.max_events}.h5\"\n",
    "        self.output_path = pathlib.Path(\n",
    "            f\"{os.environ.get('NECTARCAMDATA','/tmp')}/tutorials/{filename}\"\n",
    "        )"
   ]
  },
  {
   "cell_type": "code",
   "execution_count": 6,
   "metadata": {},
   "outputs": [],
   "source": [
    "tool = MyTool(\n",
    "    progress_bar=True, run_number=4943, max_events=500, log_level=20, window_width=14\n",
    ")"
   ]
  },
  {
   "cell_type": "code",
   "execution_count": 7,
   "metadata": {},
   "outputs": [
    {
     "data": {
      "text/plain": [
       "['MyComp']"
      ]
     },
     "execution_count": 7,
     "metadata": {},
     "output_type": "execute_result"
    }
   ],
   "source": [
    "tool.componentsList"
   ]
  },
  {
   "cell_type": "code",
   "execution_count": 8,
   "metadata": {},
   "outputs": [
    {
     "data": {
      "text/html": [
       "<b>MyTool</b>\n",
       "<p> <div class=\"document\">\n",
       "<p>A class for data processing and computation on events from a specific run.</p>\n",
       "<dl class=\"docutils\">\n",
       "<dt>Args:</dt>\n",
       "<dd>run_number (int): The ID of the run to be processed.\n",
       "max_events (int, optional): The maximum number of events to be loaded. Defaults to None.\n",
       "run_file (optional): The specific run file to be loaded.</dd>\n",
       "<dt>Example Usage:</dt>\n",
       "<dd><blockquote class=\"first\">\n",
       "maker = EventsLoopMaker(run_number=1234, max_events=1000)\n",
       "maker.make(n_events=500)</blockquote>\n",
       "<p class=\"last\">This currently uses data model version v5.0.0</p>\n",
       "</dd>\n",
       "</dl>\n",
       "</div>\n",
       " </p>\n",
       "<table>\n",
       "    <colgroup>\n",
       "        <col span='1' style=' '>\n",
       "        <col span='1' style='width: 20em;'>\n",
       "        <col span='1' >\n",
       "    </colgroup>\n",
       "    <tbody>\n",
       "<tr><th>SubComponents</th>\n",
       "<td style='text-align: left;'>None</td>\n",
       "<td style='text-align: left;'><i>. Possible values: ['TelescopeComponent', 'FeatureGenerator', 'QualityQuery', 'EventTypeFilter', 'EventSeeker', 'TableLoader', 'HDF5Merger', 'MuonRingFitter', 'DataWriter', 'SPEalgorithm', 'PhotoStatisticAlgorithm', 'SoftwareTrigger', 'ImageModifier', 'ImageProcessor', 'MuonIntensityFitter', 'MuonProcessor', 'CameraCalibrator', 'NectarCAMR0Corrections', 'TailcutsImageCleaner', 'MARSImageCleaner', 'FACTImageCleaner', 'TimeConstrainedImageCleaner', 'NeighborAverage', 'FullWaveformSum', 'FixedWindowSum', 'GlobalPeakWindowSum', 'LocalPeakWindowSum', 'SlidingWindowMaxSum', 'NeighborPeakWindowSum', 'TwoPassWindowSum', 'FlashCamExtractor', 'BaselineSubtractedNeighborPeakWindowSum', 'NullDataVolumeReducer', 'TailCutsDataVolumeReducer', 'MyComp', 'ChargesComponent', 'WaveformsComponent', 'FlatFieldSingleNominalSPENectarCAMComponent', 'PhotoStatisticNectarCAMComponent', 'FlatFieldSingleNominalSPEStdNectarCAMComponent', 'FlatFieldSingleHHVSPENectarCAMComponent', 'FlatFieldSingleHHVSPEStdNectarCAMComponent', 'FlatFieldCombinedSPEStdNectarCAMComponent', 'ImageQualityQuery', 'ImageParameterQuery', 'RingQuery', 'HDF5TableWriter', 'HDF5TableReader', 'HDF5EventSource', 'SimTelEventSource', 'NectarCAMEventSource', 'LightNectarCAMEventSource', 'ManualGainSelector', 'ThresholdGainSelector', 'SPEnominalalgorithm', 'SPEHHValgorithm', 'SPEnominalStdalgorithm', 'SPECombinedalgorithm', 'SPEHHVStdalgorithm'] (default: None)</i></td></tr>\n",
       "<tr><th>componentsList</th>\n",
       "<td style='text-align: left;'><span style='color:blue; max-width:30em;'>['MyComp']</span></td>\n",
       "<td style='text-align: left;'><i>. Possible values: ['MyComp', 'ChargesComponent', 'WaveformsComponent', 'FlatFieldSingleNominalSPENectarCAMComponent', 'PhotoStatisticNectarCAMComponent', 'FlatFieldSingleNominalSPEStdNectarCAMComponent', 'FlatFieldSingleHHVSPENectarCAMComponent', 'FlatFieldSingleHHVSPEStdNectarCAMComponent', 'FlatFieldCombinedSPEStdNectarCAMComponent'] (default: traitlets.Undefined)</i></td></tr>\n",
       "<tr><th>config_files</th>\n",
       "<td style='text-align: left;'><span style='color:blue; max-width:30em;'>[]</span></td>\n",
       "<td style='text-align: left;'><i> (default: traitlets.Undefined)</i></td></tr>\n",
       "<tr><th>events_per_slice</th>\n",
       "<td style='text-align: left;'>None</td>\n",
       "<td style='text-align: left;'><i>number of events that will be treat before to pull the buffer and write to disk, if None, all the events will be loaded (default: None)</i></td></tr>\n",
       "<tr><th>log_config</th>\n",
       "<td style='text-align: left;'><span style='color:blue; max-width:30em;'>{}</span></td>\n",
       "<td style='text-align: left;'><i> (default: traitlets.Undefined)</i></td></tr>\n",
       "<tr><th>log_datefmt</th>\n",
       "<td style='text-align: left;'>%Y-%m-%d %H:%M:%S</td>\n",
       "<td style='text-align: left;'><i>The date format used by logging formatters for %(asctime)s (default: %Y-%m-%d %H:%M:%S)</i></td></tr>\n",
       "<tr><th>log_file</th>\n",
       "<td style='text-align: left;'>None</td>\n",
       "<td style='text-align: left;'><i>Filename for the log (default: None)</i></td></tr>\n",
       "<tr><th>log_file_level</th>\n",
       "<td style='text-align: left;'>INFO</td>\n",
       "<td style='text-align: left;'><i>Logging Level for File Logging (default: INFO)</i></td></tr>\n",
       "<tr><th>log_format</th>\n",
       "<td style='text-align: left;'>[%(name)s]%(highlevel)s %(message)s</td>\n",
       "<td style='text-align: left;'><i>The Logging format template (default: [%(name)s]%(highlevel)s %(message)s)</i></td></tr>\n",
       "<tr><th>log_level</th>\n",
       "<td style='text-align: left;'><span style='color:blue; max-width:30em;'>20</span></td>\n",
       "<td style='text-align: left;'><i>Set the log level by value or name. (default: 30)</i></td></tr>\n",
       "<tr><th>logging_config</th>\n",
       "<td style='text-align: left;'><span style='color:blue; max-width:30em;'>{}</span></td>\n",
       "<td style='text-align: left;'><i> (default: traitlets.Undefined)</i></td></tr>\n",
       "<tr><th>max_events</th>\n",
       "<td style='text-align: left;'><span style='color:blue; max-width:30em;'>500</span></td>\n",
       "<td style='text-align: left;'><i>maximum number of events to be loaded (default: None)</i></td></tr>\n",
       "<tr><th>output_path</th>\n",
       "<td style='text-align: left;'><span style='color:blue; max-width:30em;'>/<wbr>data/<wbr>users/<wbr>ggroller/<wbr>NECTARCAM/<wbr>tutorials/<wbr>PedestalTutoNectarCAM_<wbr>run4943_<wbr>maxevents500.h5</span></td>\n",
       "<td style='text-align: left;'><i>output filename (default: /data/users/ggroller/NECTARCAM/runs/EventsLoopNectarCAMCalibration_run-1.h5)</i></td></tr>\n",
       "<tr><th>overwrite</th>\n",
       "<td style='text-align: left;'>False</td>\n",
       "<td style='text-align: left;'><i> (default: False)</i></td></tr>\n",
       "<tr><th>progress_bar</th>\n",
       "<td style='text-align: left;'><span style='color:blue; max-width:30em;'>True</span></td>\n",
       "<td style='text-align: left;'><i>show progress bar during processing (default: False)</i></td></tr>\n",
       "<tr><th>provenance_log</th>\n",
       "<td style='text-align: left;'><span style='color:blue; max-width:30em;'>/<wbr>home/<wbr>ggroller/<wbr>projects/<wbr>nectarchain/<wbr>notebooks/<wbr>tool_<wbr>implementation/<wbr>PedestalTutoNectarCAM.provenance.log</span></td>\n",
       "<td style='text-align: left;'><i> (default: traitlets.Undefined)</i></td></tr>\n",
       "<tr><th>quiet</th>\n",
       "<td style='text-align: left;'>False</td>\n",
       "<td style='text-align: left;'><i> (default: False)</i></td></tr>\n",
       "<tr><th>run_file</th>\n",
       "<td style='text-align: left;'>None</td>\n",
       "<td style='text-align: left;'><i>file name to be loaded (default: None)</i></td></tr>\n",
       "<tr><th>run_number</th>\n",
       "<td style='text-align: left;'><span style='color:blue; max-width:30em;'>4943</span></td>\n",
       "<td style='text-align: left;'><i>run number to be treated (default: -1)</i></td></tr>\n",
       "<tr><th>show_config</th>\n",
       "<td style='text-align: left;'>False</td>\n",
       "<td style='text-align: left;'><i>Instead of starting the Application, dump configuration to stdout (default: False)</i></td></tr>\n",
       "<tr><th>show_config_json</th>\n",
       "<td style='text-align: left;'>False</td>\n",
       "<td style='text-align: left;'><i>Instead of starting the Application, dump configuration to stdout (as JSON) (default: False)</i></td></tr>\n",
       "<tr><th>window_shift</th>\n",
       "<td style='text-align: left;'>4</td>\n",
       "<td style='text-align: left;'><i>the time in ns before the peak to extract charge (default: 4)</i></td></tr>\n",
       "<tr><th>window_width</th>\n",
       "<td style='text-align: left;'><span style='color:blue; max-width:30em;'>14</span></td>\n",
       "<td style='text-align: left;'><i>the duration of the extraction window in ns (default: 12)</i></td></tr>\n",
       "    </tbody>\n",
       "</table>\n",
       "<p><b>Components:</b>\n",
       "MyTool, HDF5TableWriter, LightNectarCAMEventSource, NectarCAMComponent, ChargesComponent, WaveformsComponent, FlatFieldSingleNominalSPENectarCAMComponent, PhotoStatisticNectarCAMComponent, FlatFieldSingleNominalSPEStdNectarCAMComponent, FlatFieldSingleHHVSPENectarCAMComponent, FlatFieldSingleHHVSPEStdNectarCAMComponent, FlatFieldCombinedSPEStdNectarCAMComponent\n",
       "</p>\n",
       "</div>"
      ],
      "text/plain": [
       "<__main__.MyTool at 0x7fb4911d8bd0>"
      ]
     },
     "execution_count": 8,
     "metadata": {},
     "output_type": "execute_result"
    }
   ],
   "source": [
    "tool"
   ]
  },
  {
   "cell_type": "markdown",
   "metadata": {},
   "source": [
    "First we have to initialize the tool :"
   ]
  },
  {
   "cell_type": "code",
   "execution_count": 9,
   "metadata": {},
   "outputs": [
    {
     "name": "stderr",
     "output_type": "stream",
     "text": [
      "2024-01-12 10:51:54,828 \u001b[1;33mWARNING\u001b[0m [__main__.PedestalTutoNectarCAM] (loader._handle_unrecognized_alias): Unrecognized alias: 'f', it will have no effect.\n",
      "2024-01-12 10:51:54,832 \u001b[1;32mINFO\u001b[0m [__main__.PedestalTutoNectarCAM] (tool.initialize): Loading config from '[]'\n",
      "2024-01-12 10:51:54,835 \u001b[1;32mINFO\u001b[0m [__main__.PedestalTutoNectarCAM] (tool.initialize): ctapipe version 0.19.1\n"
     ]
    }
   ],
   "source": [
    "tool.initialize()"
   ]
  },
  {
   "cell_type": "markdown",
   "metadata": {},
   "source": [
    "Then to setup, it will in particular setup the Components : "
   ]
  },
  {
   "cell_type": "code",
   "execution_count": 10,
   "metadata": {},
   "outputs": [
    {
     "name": "stderr",
     "output_type": "stream",
     "text": [
      "2024-01-12 10:51:54,846 \u001b[1;32mINFO\u001b[0m [__main__.PedestalTutoNectarCAM] (core.setup): setup of the Tool\n",
      "2024-01-12 10:51:55,557 ctapipe.io.hdf5tableio.HDF5TableReader WARNING Table /tel_0/calibration is missing column time_correction for field time_correction of container <class 'ctapipe.containers.WaveformCalibrationContainer'>. It will be skipped.\n",
      "2024-01-12 10:51:55,559 ctapipe.io.hdf5tableio.HDF5TableReader WARNING Table /tel_0/calibration is missing column n_pe for field n_pe of container <class 'ctapipe.containers.WaveformCalibrationContainer'>. It will be skipped.\n",
      "2024-01-12 10:51:55,627 ctapipe.io.hdf5tableio.HDF5TableReader WARNING Table /tel_0/flatfield is missing column charge_mean for field charge_mean of container <class 'ctapipe.containers.FlatFieldContainer'>. It will be skipped.\n",
      "2024-01-12 10:51:55,628 ctapipe.io.hdf5tableio.HDF5TableReader WARNING Table /tel_0/flatfield is missing column charge_median for field charge_median of container <class 'ctapipe.containers.FlatFieldContainer'>. It will be skipped.\n",
      "2024-01-12 10:51:55,629 ctapipe.io.hdf5tableio.HDF5TableReader WARNING Table /tel_0/flatfield is missing column charge_std for field charge_std of container <class 'ctapipe.containers.FlatFieldContainer'>. It will be skipped.\n",
      "2024-01-12 10:51:55,630 ctapipe.io.hdf5tableio.HDF5TableReader WARNING Table /tel_0/flatfield is missing column time_mean for field time_mean of container <class 'ctapipe.containers.FlatFieldContainer'>. It will be skipped.\n",
      "2024-01-12 10:51:55,632 ctapipe.io.hdf5tableio.HDF5TableReader WARNING Table /tel_0/flatfield is missing column time_median for field time_median of container <class 'ctapipe.containers.FlatFieldContainer'>. It will be skipped.\n",
      "2024-01-12 10:51:55,633 ctapipe.io.hdf5tableio.HDF5TableReader WARNING Table /tel_0/flatfield is missing column time_std for field time_std of container <class 'ctapipe.containers.FlatFieldContainer'>. It will be skipped.\n",
      "2024-01-12 10:51:55,634 ctapipe.io.hdf5tableio.HDF5TableReader WARNING Table /tel_0/flatfield is missing column relative_gain_median for field relative_gain_median of container <class 'ctapipe.containers.FlatFieldContainer'>. It will be skipped.\n",
      "2024-01-12 10:51:55,635 ctapipe.io.hdf5tableio.HDF5TableReader WARNING Table /tel_0/flatfield is missing column relative_gain_std for field relative_gain_std of container <class 'ctapipe.containers.FlatFieldContainer'>. It will be skipped.\n",
      "2024-01-12 10:51:55,635 ctapipe.io.hdf5tableio.HDF5TableReader WARNING Table /tel_0/flatfield is missing column relative_time_median for field relative_time_median of container <class 'ctapipe.containers.FlatFieldContainer'>. It will be skipped.\n",
      "2024-01-12 10:51:55,636 ctapipe.io.hdf5tableio.HDF5TableReader WARNING Table /tel_0/flatfield is missing column charge_median_outliers for field charge_median_outliers of container <class 'ctapipe.containers.FlatFieldContainer'>. It will be skipped.\n",
      "2024-01-12 10:51:55,637 ctapipe.io.hdf5tableio.HDF5TableReader WARNING Table /tel_0/flatfield is missing column charge_std_outliers for field charge_std_outliers of container <class 'ctapipe.containers.FlatFieldContainer'>. It will be skipped.\n",
      "2024-01-12 10:51:55,638 ctapipe.io.hdf5tableio.HDF5TableReader WARNING Table /tel_0/flatfield is missing column time_median_outliers for field time_median_outliers of container <class 'ctapipe.containers.FlatFieldContainer'>. It will be skipped.\n",
      "2024-01-12 10:51:55,642 \u001b[1;32mINFO\u001b[0m [__main__.PedestalTutoNectarCAM] (core._setup_components): setup of components\n",
      "2024-01-12 10:51:55,648 \u001b[1;32mINFO\u001b[0m [__main__.PedestalTutoNectarCAM] (core._init_writer): initilization of writter in full mode\n"
     ]
    }
   ],
   "source": [
    "tool.setup()"
   ]
  },
  {
   "cell_type": "markdown",
   "metadata": {},
   "source": [
    "The following command will just start the tool and apply components looping over events "
   ]
  },
  {
   "cell_type": "code",
   "execution_count": 11,
   "metadata": {},
   "outputs": [
    {
     "name": "stderr",
     "output_type": "stream",
     "text": [
      "2024-01-12 10:51:55,885 \u001b[1;33mWARNING\u001b[0m [__main__.PedestalTutoNectarCAM] (core.start): neither needed events number specified or events per slice, it may cause a memory error\n",
      "LightNectarCAMEventSource: 100%|██████████| 500/500 [00:06<00:00, 76.53ev/s] \n"
     ]
    }
   ],
   "source": [
    "tool.start()"
   ]
  },
  {
   "cell_type": "markdown",
   "metadata": {},
   "source": [
    "Then, we finish the tool, behind thius command the component will be finilized and will create an output container whiich will be written on disk and can be returned "
   ]
  },
  {
   "cell_type": "code",
   "execution_count": 12,
   "metadata": {},
   "outputs": [
    {
     "name": "stderr",
     "output_type": "stream",
     "text": [
      "2024-01-12 10:52:02,454 \u001b[1;32mINFO\u001b[0m [__main__.PedestalTutoNectarCAM] (core.finish): finishing Tool\n",
      "2024-01-12 10:52:02,456 \u001b[1;32mINFO\u001b[0m [__main__.PedestalTutoNectarCAM] (core._finish_components): finishing components and writting to output file\n",
      "2024-01-12 10:52:02,771 \u001b[1;32mINFO\u001b[0m [__main__.PedestalTutoNectarCAM] (tool.finish): Goodbye\n",
      "2024-01-12 10:52:02,773 \u001b[1;33mWARNING\u001b[0m [__main__.PedestalTutoNectarCAM] (core.finish): Shutting down.\n"
     ]
    }
   ],
   "source": [
    "output = tool.finish(return_output_component=True)[0]"
   ]
  },
  {
   "cell_type": "code",
   "execution_count": 13,
   "metadata": {},
   "outputs": [
    {
     "data": {
      "text/plain": [
       "__main__.MyContainer:\n",
       "                    run_number: run number associated to the waveforms with\n",
       "                                default None with type <class 'numpy.uint16'>\n",
       "                       npixels: number of effective pixels with default None\n",
       "                                with type <class 'numpy.uint16'>\n",
       "                     pixels_id: pixel ids with default None as a 1-D array with\n",
       "                                dtype uint16 with type <class 'numpy.ndarray'>\n",
       "                ucts_timestamp: events ucts timestamp with default None as a 1-D\n",
       "                                array with dtype uint64 with type <class\n",
       "                                'numpy.ndarray'>\n",
       "                    event_type: trigger event type with default None as a 1-D\n",
       "                                array with dtype uint8 with type <class\n",
       "                                'numpy.ndarray'>\n",
       "                      event_id: event ids with default None as a 1-D array with\n",
       "                                dtype uint32 with type <class 'numpy.ndarray'>\n",
       "                   pedestal_hg: The high gain pedestal with default None as a\n",
       "                                2-D array with dtype uint16 with type <class\n",
       "                                'numpy.ndarray'>\n",
       "                   pedestal_lg: The low gain pedestal with default None as a 2-D\n",
       "                                array with dtype uint16 with type <class\n",
       "                                'numpy.ndarray'>"
      ]
     },
     "execution_count": 13,
     "metadata": {},
     "output_type": "execute_result"
    }
   ],
   "source": [
    "output"
   ]
  },
  {
   "cell_type": "markdown",
   "metadata": {},
   "source": [
    "The following file has been written : "
   ]
  },
  {
   "cell_type": "code",
   "execution_count": 14,
   "metadata": {},
   "outputs": [
    {
     "name": "stdout",
     "output_type": "stream",
     "text": [
      "total 5,3M\n",
      "-rw-r--r-- 1 ggroller gamma 4,2M 11 janv. 17:26 PedestalTutoNectarCAM_run4943_maxevents2000.h5\n",
      "-rw-r--r-- 1 ggroller gamma 1,1M 12 janv. 10:52 PedestalTutoNectarCAM_run4943_maxevents500.h5\n"
     ]
    }
   ],
   "source": [
    "!ls -lh $NECTARCAMDATA/tutorials"
   ]
  },
  {
   "cell_type": "markdown",
   "metadata": {},
   "source": [
    "The shape of pedestal is (n_events,n_pixels) "
   ]
  },
  {
   "cell_type": "code",
   "execution_count": 15,
   "metadata": {},
   "outputs": [
    {
     "data": {
      "text/plain": [
       "(500, 1855)"
      ]
     },
     "execution_count": 15,
     "metadata": {},
     "output_type": "execute_result"
    }
   ],
   "source": [
    "output.pedestal_hg.shape"
   ]
  },
  {
   "cell_type": "markdown",
   "metadata": {},
   "source": [
    "To have a look to a random pixel pedestal evolution : "
   ]
  },
  {
   "cell_type": "code",
   "execution_count": 16,
   "metadata": {},
   "outputs": [
    {
     "data": {
      "text/plain": [
       "Text(0.5, 0, 'time [ms]')"
      ]
     },
     "execution_count": 16,
     "metadata": {},
     "output_type": "execute_result"
    },
    {
     "data": {
      "image/png": "[encoded data removed]",
      "text/plain": [
       "<Figure size 640x480 with 1 Axes>"
      ]
     },
     "metadata": {},
     "output_type": "display_data"
    }
   ],
   "source": [
    "fix, ax = plt.subplots(1, 1)\n",
    "i = np.random.randint(0, len(output.pixels_id))\n",
    "\n",
    "ax.plot(\n",
    "    (output.ucts_timestamp - output.ucts_timestamp[0]) / 1e6,\n",
    "    output.pedestal_hg[:, i],\n",
    "    linewidth=0.5,\n",
    ")\n",
    "ax.set_ylabel(\"Charge [ADC]\")\n",
    "ax.set_xlabel(\"time [ms]\")"
   ]
  },
  {
   "cell_type": "markdown",
   "metadata": {},
   "source": [
    "If you want to load container thereafter : "
   ]
  },
  {
   "cell_type": "code",
   "execution_count": 17,
   "metadata": {},
   "outputs": [
    {
     "data": {
      "text/plain": [
       "__main__.MyContainer:\n",
       "                    run_number: run number associated to the waveforms with\n",
       "                                default None with type <class 'numpy.uint16'>\n",
       "                       npixels: number of effective pixels with default None\n",
       "                                with type <class 'numpy.uint16'>\n",
       "                     pixels_id: pixel ids with default None as a 1-D array with\n",
       "                                dtype uint16 with type <class 'numpy.ndarray'>\n",
       "                ucts_timestamp: events ucts timestamp with default None as a 1-D\n",
       "                                array with dtype uint64 with type <class\n",
       "                                'numpy.ndarray'>\n",
       "                    event_type: trigger event type with default None as a 1-D\n",
       "                                array with dtype uint8 with type <class\n",
       "                                'numpy.ndarray'>\n",
       "                      event_id: event ids with default None as a 1-D array with\n",
       "                                dtype uint32 with type <class 'numpy.ndarray'>\n",
       "                   pedestal_hg: The high gain pedestal with default None as a\n",
       "                                2-D array with dtype uint16 with type <class\n",
       "                                'numpy.ndarray'>\n",
       "                   pedestal_lg: The low gain pedestal with default None as a 2-D\n",
       "                                array with dtype uint16 with type <class\n",
       "                                'numpy.ndarray'>"
      ]
     },
     "execution_count": 17,
     "metadata": {},
     "output_type": "execute_result"
    }
   ],
   "source": [
    "container_loaded = MyContainer._container_from_hdf5(\n",
    "    f\"{os.environ.get('NECTARCAMDATA','/tmp')}/tutorials/PedestalTutoNectarCAM_run4943_maxevents500.h5\",\n",
    "    MyContainer,\n",
    ")\n",
    "container_loaded.validate()\n",
    "container_loaded"
   ]
  },
  {
   "cell_type": "markdown",
   "metadata": {},
   "source": [
    "## Going further"
   ]
  },
  {
   "cell_type": "markdown",
   "metadata": {},
   "source": [
    "An argument that are implemented in EventsLoopNectarCAMCalibrationTool is the 'event_per_slice', this argument allows to split all the events within the raw data fits.fz file in slices. It allows to, for each slice, loop over events and write container on disk. This mechanism allows to save RAM.\n",
    "The resulting hdf5 file that is written on disk , can be easily loaded thereafter. There is only one hdf5 file for the whole run, which is a mapping between slices and containers filled by computed quantity from components. "
   ]
  },
  {
   "cell_type": "code",
   "execution_count": 18,
   "metadata": {},
   "outputs": [
    {
     "data": {
      "text/html": [
       "<b>MyTool</b>\n",
       "<p> <div class=\"document\">\n",
       "<p>A class for data processing and computation on events from a specific run.</p>\n",
       "<dl class=\"docutils\">\n",
       "<dt>Args:</dt>\n",
       "<dd>run_number (int): The ID of the run to be processed.\n",
       "max_events (int, optional): The maximum number of events to be loaded. Defaults to None.\n",
       "run_file (optional): The specific run file to be loaded.</dd>\n",
       "<dt>Example Usage:</dt>\n",
       "<dd><blockquote class=\"first\">\n",
       "maker = EventsLoopMaker(run_number=1234, max_events=1000)\n",
       "maker.make(n_events=500)</blockquote>\n",
       "<p class=\"last\">This currently uses data model version v5.0.0</p>\n",
       "</dd>\n",
       "</dl>\n",
       "</div>\n",
       " </p>\n",
       "<table>\n",
       "    <colgroup>\n",
       "        <col span='1' style=' '>\n",
       "        <col span='1' style='width: 20em;'>\n",
       "        <col span='1' >\n",
       "    </colgroup>\n",
       "    <tbody>\n",
       "<tr><th>SubComponents</th>\n",
       "<td style='text-align: left;'>None</td>\n",
       "<td style='text-align: left;'><i>. Possible values: ['TelescopeComponent', 'FeatureGenerator', 'QualityQuery', 'EventTypeFilter', 'EventSeeker', 'TableLoader', 'HDF5Merger', 'MuonRingFitter', 'DataWriter', 'SPEalgorithm', 'PhotoStatisticAlgorithm', 'SoftwareTrigger', 'ImageModifier', 'ImageProcessor', 'MuonIntensityFitter', 'MuonProcessor', 'CameraCalibrator', 'NectarCAMR0Corrections', 'TailcutsImageCleaner', 'MARSImageCleaner', 'FACTImageCleaner', 'TimeConstrainedImageCleaner', 'NeighborAverage', 'FullWaveformSum', 'FixedWindowSum', 'GlobalPeakWindowSum', 'LocalPeakWindowSum', 'SlidingWindowMaxSum', 'NeighborPeakWindowSum', 'TwoPassWindowSum', 'FlashCamExtractor', 'BaselineSubtractedNeighborPeakWindowSum', 'NullDataVolumeReducer', 'TailCutsDataVolumeReducer', 'MyComp', 'ChargesComponent', 'WaveformsComponent', 'FlatFieldSingleNominalSPENectarCAMComponent', 'PhotoStatisticNectarCAMComponent', 'FlatFieldSingleNominalSPEStdNectarCAMComponent', 'FlatFieldSingleHHVSPENectarCAMComponent', 'FlatFieldSingleHHVSPEStdNectarCAMComponent', 'FlatFieldCombinedSPEStdNectarCAMComponent', 'ImageQualityQuery', 'ImageParameterQuery', 'RingQuery', 'HDF5TableWriter', 'HDF5TableReader', 'HDF5EventSource', 'SimTelEventSource', 'NectarCAMEventSource', 'LightNectarCAMEventSource', 'ManualGainSelector', 'ThresholdGainSelector', 'SPEnominalalgorithm', 'SPEHHValgorithm', 'SPEnominalStdalgorithm', 'SPECombinedalgorithm', 'SPEHHVStdalgorithm'] (default: None)</i></td></tr>\n",
       "<tr><th>componentsList</th>\n",
       "<td style='text-align: left;'><span style='color:blue; max-width:30em;'>['MyComp']</span></td>\n",
       "<td style='text-align: left;'><i>. Possible values: ['MyComp', 'ChargesComponent', 'WaveformsComponent', 'FlatFieldSingleNominalSPENectarCAMComponent', 'PhotoStatisticNectarCAMComponent', 'FlatFieldSingleNominalSPEStdNectarCAMComponent', 'FlatFieldSingleHHVSPENectarCAMComponent', 'FlatFieldSingleHHVSPEStdNectarCAMComponent', 'FlatFieldCombinedSPEStdNectarCAMComponent'] (default: traitlets.Undefined)</i></td></tr>\n",
       "<tr><th>config_files</th>\n",
       "<td style='text-align: left;'><span style='color:blue; max-width:30em;'>[]</span></td>\n",
       "<td style='text-align: left;'><i> (default: traitlets.Undefined)</i></td></tr>\n",
       "<tr><th>events_per_slice</th>\n",
       "<td style='text-align: left;'><span style='color:blue; max-width:30em;'>1000</span></td>\n",
       "<td style='text-align: left;'><i>number of events that will be treat before to pull the buffer and write to disk, if None, all the events will be loaded (default: None)</i></td></tr>\n",
       "<tr><th>log_config</th>\n",
       "<td style='text-align: left;'><span style='color:blue; max-width:30em;'>{}</span></td>\n",
       "<td style='text-align: left;'><i> (default: traitlets.Undefined)</i></td></tr>\n",
       "<tr><th>log_datefmt</th>\n",
       "<td style='text-align: left;'>%Y-%m-%d %H:%M:%S</td>\n",
       "<td style='text-align: left;'><i>The date format used by logging formatters for %(asctime)s (default: %Y-%m-%d %H:%M:%S)</i></td></tr>\n",
       "<tr><th>log_file</th>\n",
       "<td style='text-align: left;'>None</td>\n",
       "<td style='text-align: left;'><i>Filename for the log (default: None)</i></td></tr>\n",
       "<tr><th>log_file_level</th>\n",
       "<td style='text-align: left;'>INFO</td>\n",
       "<td style='text-align: left;'><i>Logging Level for File Logging (default: INFO)</i></td></tr>\n",
       "<tr><th>log_format</th>\n",
       "<td style='text-align: left;'>[%(name)s]%(highlevel)s %(message)s</td>\n",
       "<td style='text-align: left;'><i>The Logging format template (default: [%(name)s]%(highlevel)s %(message)s)</i></td></tr>\n",
       "<tr><th>log_level</th>\n",
       "<td style='text-align: left;'><span style='color:blue; max-width:30em;'>20</span></td>\n",
       "<td style='text-align: left;'><i>Set the log level by value or name. (default: 30)</i></td></tr>\n",
       "<tr><th>logging_config</th>\n",
       "<td style='text-align: left;'><span style='color:blue; max-width:30em;'>{}</span></td>\n",
       "<td style='text-align: left;'><i> (default: traitlets.Undefined)</i></td></tr>\n",
       "<tr><th>max_events</th>\n",
       "<td style='text-align: left;'><span style='color:blue; max-width:30em;'>2000</span></td>\n",
       "<td style='text-align: left;'><i>maximum number of events to be loaded (default: None)</i></td></tr>\n",
       "<tr><th>output_path</th>\n",
       "<td style='text-align: left;'><span style='color:blue; max-width:30em;'>/<wbr>data/<wbr>users/<wbr>ggroller/<wbr>NECTARCAM/<wbr>tutorials/<wbr>PedestalTutoNectarCAM_<wbr>run4943_<wbr>maxevents2000.h5</span></td>\n",
       "<td style='text-align: left;'><i>output filename (default: /data/users/ggroller/NECTARCAM/runs/EventsLoopNectarCAMCalibration_run-1.h5)</i></td></tr>\n",
       "<tr><th>overwrite</th>\n",
       "<td style='text-align: left;'><span style='color:blue; max-width:30em;'>True</span></td>\n",
       "<td style='text-align: left;'><i> (default: False)</i></td></tr>\n",
       "<tr><th>progress_bar</th>\n",
       "<td style='text-align: left;'><span style='color:blue; max-width:30em;'>True</span></td>\n",
       "<td style='text-align: left;'><i>show progress bar during processing (default: False)</i></td></tr>\n",
       "<tr><th>provenance_log</th>\n",
       "<td style='text-align: left;'><span style='color:blue; max-width:30em;'>/<wbr>home/<wbr>ggroller/<wbr>projects/<wbr>nectarchain/<wbr>notebooks/<wbr>tool_<wbr>implementation/<wbr>PedestalTutoNectarCAM.provenance.log</span></td>\n",
       "<td style='text-align: left;'><i> (default: traitlets.Undefined)</i></td></tr>\n",
       "<tr><th>quiet</th>\n",
       "<td style='text-align: left;'>False</td>\n",
       "<td style='text-align: left;'><i> (default: False)</i></td></tr>\n",
       "<tr><th>run_file</th>\n",
       "<td style='text-align: left;'>None</td>\n",
       "<td style='text-align: left;'><i>file name to be loaded (default: None)</i></td></tr>\n",
       "<tr><th>run_number</th>\n",
       "<td style='text-align: left;'><span style='color:blue; max-width:30em;'>4943</span></td>\n",
       "<td style='text-align: left;'><i>run number to be treated (default: -1)</i></td></tr>\n",
       "<tr><th>show_config</th>\n",
       "<td style='text-align: left;'>False</td>\n",
       "<td style='text-align: left;'><i>Instead of starting the Application, dump configuration to stdout (default: False)</i></td></tr>\n",
       "<tr><th>show_config_json</th>\n",
       "<td style='text-align: left;'>False</td>\n",
       "<td style='text-align: left;'><i>Instead of starting the Application, dump configuration to stdout (as JSON) (default: False)</i></td></tr>\n",
       "<tr><th>window_shift</th>\n",
       "<td style='text-align: left;'>4</td>\n",
       "<td style='text-align: left;'><i>the time in ns before the peak to extract charge (default: 4)</i></td></tr>\n",
       "<tr><th>window_width</th>\n",
       "<td style='text-align: left;'>12</td>\n",
       "<td style='text-align: left;'><i>the duration of the extraction window in ns (default: 12)</i></td></tr>\n",
       "    </tbody>\n",
       "</table>\n",
       "<p><b>Components:</b>\n",
       "MyTool, HDF5TableWriter, LightNectarCAMEventSource, NectarCAMComponent, ChargesComponent, WaveformsComponent, FlatFieldSingleNominalSPENectarCAMComponent, PhotoStatisticNectarCAMComponent, FlatFieldSingleNominalSPEStdNectarCAMComponent, FlatFieldSingleHHVSPENectarCAMComponent, FlatFieldSingleHHVSPEStdNectarCAMComponent, FlatFieldCombinedSPEStdNectarCAMComponent\n",
       "</p>\n",
       "</div>"
      ],
      "text/plain": [
       "<__main__.MyTool at 0x7fb48bf85a50>"
      ]
     },
     "execution_count": 18,
     "metadata": {},
     "output_type": "execute_result"
    }
   ],
   "source": [
    "tool = MyTool(\n",
    "    progress_bar=True,\n",
    "    run_number=4943,\n",
    "    max_events=2000,\n",
    "    log_level=20,\n",
    "    events_per_slice=1000,\n",
    "    overwrite=True,\n",
    ")\n",
    "tool"
   ]
  },
  {
   "cell_type": "code",
   "execution_count": 19,
   "metadata": {},
   "outputs": [
    {
     "name": "stderr",
     "output_type": "stream",
     "text": [
      "2024-01-12 10:52:03,557 \u001b[1;33mWARNING\u001b[0m [__main__.PedestalTutoNectarCAM] (loader._handle_unrecognized_alias): Unrecognized alias: 'f', it will have no effect.\n",
      "2024-01-12 10:52:03,560 \u001b[1;32mINFO\u001b[0m [__main__.PedestalTutoNectarCAM] (tool.initialize): Loading config from '[]'\n",
      "2024-01-12 10:52:03,563 \u001b[1;32mINFO\u001b[0m [__main__.PedestalTutoNectarCAM] (tool.initialize): ctapipe version 0.19.1\n",
      "2024-01-12 10:52:03,564 \u001b[1;32mINFO\u001b[0m [__main__.PedestalTutoNectarCAM] (core.setup): setup of the Tool\n",
      "2024-01-12 10:52:04,153 ctapipe.io.hdf5tableio.HDF5TableReader WARNING Table /tel_0/calibration is missing column time_correction for field time_correction of container <class 'ctapipe.containers.WaveformCalibrationContainer'>. It will be skipped.\n",
      "2024-01-12 10:52:04,154 ctapipe.io.hdf5tableio.HDF5TableReader WARNING Table /tel_0/calibration is missing column n_pe for field n_pe of container <class 'ctapipe.containers.WaveformCalibrationContainer'>. It will be skipped.\n",
      "2024-01-12 10:52:04,177 ctapipe.io.hdf5tableio.HDF5TableReader WARNING Table /tel_0/flatfield is missing column charge_mean for field charge_mean of container <class 'ctapipe.containers.FlatFieldContainer'>. It will be skipped.\n",
      "2024-01-12 10:52:04,178 ctapipe.io.hdf5tableio.HDF5TableReader WARNING Table /tel_0/flatfield is missing column charge_median for field charge_median of container <class 'ctapipe.containers.FlatFieldContainer'>. It will be skipped.\n",
      "2024-01-12 10:52:04,179 ctapipe.io.hdf5tableio.HDF5TableReader WARNING Table /tel_0/flatfield is missing column charge_std for field charge_std of container <class 'ctapipe.containers.FlatFieldContainer'>. It will be skipped.\n",
      "2024-01-12 10:52:04,180 ctapipe.io.hdf5tableio.HDF5TableReader WARNING Table /tel_0/flatfield is missing column time_mean for field time_mean of container <class 'ctapipe.containers.FlatFieldContainer'>. It will be skipped.\n",
      "2024-01-12 10:52:04,181 ctapipe.io.hdf5tableio.HDF5TableReader WARNING Table /tel_0/flatfield is missing column time_median for field time_median of container <class 'ctapipe.containers.FlatFieldContainer'>. It will be skipped.\n",
      "2024-01-12 10:52:04,182 ctapipe.io.hdf5tableio.HDF5TableReader WARNING Table /tel_0/flatfield is missing column time_std for field time_std of container <class 'ctapipe.containers.FlatFieldContainer'>. It will be skipped.\n",
      "2024-01-12 10:52:04,183 ctapipe.io.hdf5tableio.HDF5TableReader WARNING Table /tel_0/flatfield is missing column relative_gain_median for field relative_gain_median of container <class 'ctapipe.containers.FlatFieldContainer'>. It will be skipped.\n",
      "2024-01-12 10:52:04,183 ctapipe.io.hdf5tableio.HDF5TableReader WARNING Table /tel_0/flatfield is missing column relative_gain_std for field relative_gain_std of container <class 'ctapipe.containers.FlatFieldContainer'>. It will be skipped.\n",
      "2024-01-12 10:52:04,184 ctapipe.io.hdf5tableio.HDF5TableReader WARNING Table /tel_0/flatfield is missing column relative_time_median for field relative_time_median of container <class 'ctapipe.containers.FlatFieldContainer'>. It will be skipped.\n",
      "2024-01-12 10:52:04,185 ctapipe.io.hdf5tableio.HDF5TableReader WARNING Table /tel_0/flatfield is missing column charge_median_outliers for field charge_median_outliers of container <class 'ctapipe.containers.FlatFieldContainer'>. It will be skipped.\n",
      "2024-01-12 10:52:04,186 ctapipe.io.hdf5tableio.HDF5TableReader WARNING Table /tel_0/flatfield is missing column charge_std_outliers for field charge_std_outliers of container <class 'ctapipe.containers.FlatFieldContainer'>. It will be skipped.\n",
      "2024-01-12 10:52:04,187 ctapipe.io.hdf5tableio.HDF5TableReader WARNING Table /tel_0/flatfield is missing column time_median_outliers for field time_median_outliers of container <class 'ctapipe.containers.FlatFieldContainer'>. It will be skipped.\n",
      "2024-01-12 10:52:04,194 \u001b[1;32mINFO\u001b[0m [__main__.PedestalTutoNectarCAM] (core._setup_components): setup of components\n",
      "2024-01-12 10:52:04,198 \u001b[1;32mINFO\u001b[0m [__main__.PedestalTutoNectarCAM] (core._init_writer): initilization of writter in sliced mode (slice index = 1)\n"
     ]
    }
   ],
   "source": [
    "tool.initialize()\n",
    "tool.setup()"
   ]
  },
  {
   "cell_type": "code",
   "execution_count": 20,
   "metadata": {},
   "outputs": [
    {
     "name": "stderr",
     "output_type": "stream",
     "text": [
      "LightNectarCAMEventSource:  50%|████▉     | 993/2000 [00:12<00:09, 103.84ev/s]2024-01-12 10:52:16,706 \u001b[1;32mINFO\u001b[0m [__main__.PedestalTutoNectarCAM] (core.start): slice number 1 is full, pulling buffer\n",
      "2024-01-12 10:52:16,707 \u001b[1;32mINFO\u001b[0m [__main__.PedestalTutoNectarCAM] (core._finish_components): finishing components and writting to output file\n",
      "2024-01-12 10:52:17,282 \u001b[1;32mINFO\u001b[0m [__main__.PedestalTutoNectarCAM] (core._init_writer): initilization of writter in sliced mode (slice index = 2)\n",
      "2024-01-12 10:52:17,289 \u001b[1;32mINFO\u001b[0m [__main__.PedestalTutoNectarCAM] (core._setup_components): setup of components\n",
      "LightNectarCAMEventSource: 100%|█████████▉| 1996/2000 [00:24<00:00, 104.24ev/s]2024-01-12 10:52:29,342 \u001b[1;32mINFO\u001b[0m [__main__.PedestalTutoNectarCAM] (core.start): slice number 2 is full, pulling buffer\n",
      "2024-01-12 10:52:29,344 \u001b[1;32mINFO\u001b[0m [__main__.PedestalTutoNectarCAM] (core._finish_components): finishing components and writting to output file\n",
      "2024-01-12 10:52:29,915 \u001b[1;32mINFO\u001b[0m [__main__.PedestalTutoNectarCAM] (core._init_writer): initilization of writter in sliced mode (slice index = 3)\n",
      "2024-01-12 10:52:29,925 \u001b[1;32mINFO\u001b[0m [__main__.PedestalTutoNectarCAM] (core._setup_components): setup of components\n",
      "LightNectarCAMEventSource: 100%|██████████| 2000/2000 [00:25<00:00, 77.78ev/s] \n"
     ]
    }
   ],
   "source": [
    "tool.start()"
   ]
  },
  {
   "cell_type": "code",
   "execution_count": 21,
   "metadata": {},
   "outputs": [
    {
     "name": "stderr",
     "output_type": "stream",
     "text": [
      "2024-01-12 10:52:29,953 \u001b[1;32mINFO\u001b[0m [__main__.PedestalTutoNectarCAM] (core.finish): finishing Tool\n",
      "2024-01-12 10:52:29,956 \u001b[1;32mINFO\u001b[0m [__main__.PedestalTutoNectarCAM] (core._finish_components): finishing components and writting to output file\n",
      "2024-01-12 10:52:29,957 \u001b[1;33mWARNING\u001b[0m [nectarchain.makers.core] (core._write_container): MyContainer Field 'pedestal_hg': the value '[]' (<class 'numpy.ndarray'>) is invalid:  Should have dimensionality 2\n",
      "Traceback (most recent call last):\n",
      "  File \"/home/ggroller/.conda/envs/nectarchain/lib/python3.11/site-packages/ctapipe/core/container.py\", line 455, in validate\n",
      "    field.validate(self[name])\n",
      "  File \"/home/ggroller/.conda/envs/nectarchain/lib/python3.11/site-packages/ctapipe/core/container.py\", line 189, in validate\n",
      "    raise FieldValidationError(\n",
      "ctapipe.core.container.FieldValidationError: the value '[]' (<class 'numpy.ndarray'>) is invalid:  Should have dimensionality 2\n",
      "\n",
      "During handling of the above exception, another exception occurred:\n",
      "\n",
      "Traceback (most recent call last):\n",
      "  File \"/home/ggroller/projects/nectarchain/src/nectarchain/makers/core.py\", line 400, in _write_container\n",
      "    container.validate()\n",
      "  File \"/home/ggroller/.conda/envs/nectarchain/lib/python3.11/site-packages/ctapipe/core/container.py\", line 457, in validate\n",
      "    raise FieldValidationError(\n",
      "ctapipe.core.container.FieldValidationError: MyContainer Field 'pedestal_hg': the value '[]' (<class 'numpy.ndarray'>) is invalid:  Should have dimensionality 2\n",
      "2024-01-12 10:52:29,964 \u001b[1;33mWARNING\u001b[0m [__main__.PedestalTutoNectarCAM] (core._write_container): the container has not been written\n",
      "2024-01-12 10:52:29,966 \u001b[1;32mINFO\u001b[0m [__main__.PedestalTutoNectarCAM] (tool.finish): Goodbye\n",
      "2024-01-12 10:52:29,967 \u001b[1;33mWARNING\u001b[0m [__main__.PedestalTutoNectarCAM] (core.finish): Shutting down.\n"
     ]
    },
    {
     "data": {
      "text/plain": [
       "__main__.MyContainer:\n",
       "                    run_number: run number associated to the waveforms with\n",
       "                                default None with type <class 'numpy.uint16'>\n",
       "                       npixels: number of effective pixels with default None\n",
       "                                with type <class 'numpy.uint16'>\n",
       "                     pixels_id: pixel ids with default None as a 1-D array with\n",
       "                                dtype uint16 with type <class 'numpy.ndarray'>\n",
       "                ucts_timestamp: events ucts timestamp with default None as a 1-D\n",
       "                                array with dtype uint64 with type <class\n",
       "                                'numpy.ndarray'>\n",
       "                    event_type: trigger event type with default None as a 1-D\n",
       "                                array with dtype uint8 with type <class\n",
       "                                'numpy.ndarray'>\n",
       "                      event_id: event ids with default None as a 1-D array with\n",
       "                                dtype uint32 with type <class 'numpy.ndarray'>\n",
       "                   pedestal_hg: The high gain pedestal with default None as a\n",
       "                                2-D array with dtype uint16 with type <class\n",
       "                                'numpy.ndarray'>\n",
       "                   pedestal_lg: The low gain pedestal with default None as a 2-D\n",
       "                                array with dtype uint16 with type <class\n",
       "                                'numpy.ndarray'>"
      ]
     },
     "execution_count": 21,
     "metadata": {},
     "output_type": "execute_result"
    }
   ],
   "source": [
    "output = tool.finish(return_output_component=True)[0]\n",
    "output"
   ]
  },
  {
   "cell_type": "code",
   "execution_count": 22,
   "metadata": {},
   "outputs": [
    {
     "name": "stdout",
     "output_type": "stream",
     "text": [
      "/                        Group\n",
      "/data_1                  Group\n",
      "/data_1/MyContainer      Dataset {1/Inf}\n",
      "/data_2                  Group\n",
      "/data_2/MyContainer      Dataset {1/Inf}\n"
     ]
    }
   ],
   "source": [
    "!h5ls -r $NECTARCAMDATA/tutorials/PedestalTutoNectarCAM_run4943_maxevents2000.h5"
   ]
  },
  {
   "cell_type": "code",
   "execution_count": 23,
   "metadata": {},
   "outputs": [],
   "source": [
    "# container_loaded = ArrayDataContainer._container_from_hdf5(f\"{os.environ.get('NECTARCAMDATA','/tmp')}/tutorials/PedestalTutoNectarCAM_run4943_maxevents2000.h5\",MyContainer)\n",
    "# container_loaded"
   ]
  },
  {
   "cell_type": "code",
   "execution_count": 24,
   "metadata": {},
   "outputs": [],
   "source": [
    "def read_hdf5_sliced(path):\n",
    "    container = MyContainer()\n",
    "    container_class = MyContainer\n",
    "    with HDF5TableReader(path) as reader:\n",
    "        for data in reader._h5file.root.__members__:\n",
    "            # print(data)\n",
    "            data_cont = eval(f\"reader._h5file.root.{data}.__members__\")[0]\n",
    "            # print(data_cont)\n",
    "            tableReader = reader.read(\n",
    "                table_name=f\"/{data}/{data_cont}\", containers=container_class\n",
    "            )\n",
    "            # container.containers[data].containers[trigger] = next(tableReader)\n",
    "            container = next(tableReader)\n",
    "            yield container"
   ]
  },
  {
   "cell_type": "code",
   "execution_count": 25,
   "metadata": {},
   "outputs": [
    {
     "name": "stdout",
     "output_type": "stream",
     "text": [
      "Container 0 is filled by events from 2002 to 4000\n",
      "Container 1 is filled by events from 2 to 2000\n"
     ]
    }
   ],
   "source": [
    "container_loaded = read_hdf5_sliced(\n",
    "    f\"{os.environ.get('NECTARCAMDATA','/tmp')}/tutorials/PedestalTutoNectarCAM_run4943_maxevents2000.h5\"\n",
    ")\n",
    "for i, container in enumerate(container_loaded):\n",
    "    print(\n",
    "        f\"Container {i} is filled by events from {container.event_id[0]} to {container.event_id[-1]}\"\n",
    "    )"
   ]
  },
  {
   "cell_type": "code",
   "execution_count": null,
   "metadata": {},
   "outputs": [],
   "source": []
  }
 ],
 "metadata": {
  "kernelspec": {
   "display_name": "nectarchain",
   "language": "python",
   "name": "python3"
  },
  "language_info": {
   "codemirror_mode": {
    "name": "ipython",
    "version": 3
   },
   "file_extension": ".py",
   "mimetype": "text/x-python",
   "name": "python",
   "nbconvert_exporter": "python",
   "pygments_lexer": "ipython3",
   "version": "3.11.5"
  }
 },
 "nbformat": 4,
 "nbformat_minor": 2
}
