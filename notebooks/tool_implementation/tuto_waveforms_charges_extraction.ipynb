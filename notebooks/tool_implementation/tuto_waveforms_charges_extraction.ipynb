{
 "cells": [
  {
   "cell_type": "code",
   "execution_count": 1,
   "metadata": {},
   "outputs": [
    {
     "name": "stderr",
     "output_type": "stream",
     "text": [
      "/home/ggroller/.conda/envs/nectarchain/lib/python3.11/site-packages/tqdm/auto.py:21: TqdmWarning: IProgress not found. Please update jupyter and ipywidgets. See https://ipywidgets.readthedocs.io/en/stable/user_install.html\n",
      "  from .autonotebook import tqdm as notebook_tqdm\n"
     ]
    }
   ],
   "source": [
    "from nectarchain.makers import ChargesNectarCAMCalibrationTool,WaveformsNectarCAMCalibrationTool\n",
    "from nectarchain.makers.component import get_valid_component\n",
    "from nectarchain.data.container import ChargesContainers,ChargesContainer,WaveformsContainer,WaveformsContainers\n",
    "from ctapipe.io import HDF5TableReader\n",
    "from ctapipe.containers import EventType\n"
   ]
  },
  {
   "cell_type": "code",
   "execution_count": 2,
   "metadata": {},
   "outputs": [
    {
     "data": {
      "text/plain": [
       "{'ChargesComponent': nectarchain.makers.component.chargesComponent.ChargesComponent,\n",
       " 'WaveformsComponent': nectarchain.makers.component.waveformsComponent.WaveformsComponent,\n",
       " 'FlatFieldSingleNominalSPENectarCAMComponent': nectarchain.makers.component.FlatFieldSPEComponent.FlatFieldSingleNominalSPENectarCAMComponent,\n",
       " 'PhotoStatisticNectarCAMComponent': nectarchain.makers.component.photostatistic_component.PhotoStatisticNectarCAMComponent,\n",
       " 'FlatFieldSingleNominalSPEStdNectarCAMComponent': nectarchain.makers.component.FlatFieldSPEComponent.FlatFieldSingleNominalSPEStdNectarCAMComponent,\n",
       " 'FlatFieldSingleHHVSPENectarCAMComponent': nectarchain.makers.component.FlatFieldSPEComponent.FlatFieldSingleHHVSPENectarCAMComponent,\n",
       " 'FlatFieldSingleHHVSPEStdNectarCAMComponent': nectarchain.makers.component.FlatFieldSPEComponent.FlatFieldSingleHHVSPEStdNectarCAMComponent,\n",
       " 'FlatFieldCombinedSPEStdNectarCAMComponent': nectarchain.makers.component.FlatFieldSPEComponent.FlatFieldCombinedSPEStdNectarCAMComponent}"
      ]
     },
     "execution_count": 2,
     "metadata": {},
     "output_type": "execute_result"
    }
   ],
   "source": [
    "get_valid_component()"
   ]
  },
  {
   "cell_type": "code",
   "execution_count": 3,
   "metadata": {},
   "outputs": [],
   "source": [
    "run_number = 4943"
   ]
  },
  {
   "cell_type": "code",
   "execution_count": 4,
   "metadata": {},
   "outputs": [
    {
     "name": "stderr",
     "output_type": "stream",
     "text": [
      "2024-01-12 11:15:01,056 nectarchain.makers.core WARNING the componentName in componentsList must be defined in the nectarchain.makers.component module, otherwise the import of the componentName will raise an error\n"
     ]
    },
    {
     "data": {
      "text/html": [
       "<b>WaveformsNectarCAMCalibrationTool</b>\n",
       "<p> <div class=\"document\">\n",
       "<p>A class for data processing and computation on events from a specific run.</p>\n",
       "<dl class=\"docutils\">\n",
       "<dt>Args:</dt>\n",
       "<dd>run_number (int): The ID of the run to be processed.\n",
       "max_events (int, optional): The maximum number of events to be loaded. Defaults to None.\n",
       "run_file (optional): The specific run file to be loaded.</dd>\n",
       "<dt>Example Usage:</dt>\n",
       "<dd><blockquote class=\"first\">\n",
       "maker = EventsLoopMaker(run_number=1234, max_events=1000)\n",
       "maker.make(n_events=500)</blockquote>\n",
       "<p class=\"last\">This currently uses data model version v5.0.0</p>\n",
       "</dd>\n",
       "</dl>\n",
       "</div>\n",
       " </p>\n",
       "<table>\n",
       "    <colgroup>\n",
       "        <col span='1' style=' '>\n",
       "        <col span='1' style='width: 20em;'>\n",
       "        <col span='1' >\n",
       "    </colgroup>\n",
       "    <tbody>\n",
       "<tr><th>componentsList</th>\n",
       "<td style='text-align: left;'><span style='color:blue; max-width:30em;'>['WaveformsComponent']</span></td>\n",
       "<td style='text-align: left;'><i>. Possible values: ['ChargesComponent', 'WaveformsComponent', 'FlatFieldSingleNominalSPENectarCAMComponent', 'PhotoStatisticNectarCAMComponent', 'FlatFieldSingleNominalSPEStdNectarCAMComponent', 'FlatFieldSingleHHVSPENectarCAMComponent', 'FlatFieldSingleHHVSPEStdNectarCAMComponent', 'FlatFieldCombinedSPEStdNectarCAMComponent'] (default: traitlets.Undefined)</i></td></tr>\n",
       "<tr><th>config_files</th>\n",
       "<td style='text-align: left;'><span style='color:blue; max-width:30em;'>[]</span></td>\n",
       "<td style='text-align: left;'><i> (default: traitlets.Undefined)</i></td></tr>\n",
       "<tr><th>events_per_slice</th>\n",
       "<td style='text-align: left;'>None</td>\n",
       "<td style='text-align: left;'><i>number of events that will be treat before to pull the buffer and write to disk, if None, all the events will be loaded (default: None)</i></td></tr>\n",
       "<tr><th>log_config</th>\n",
       "<td style='text-align: left;'><span style='color:blue; max-width:30em;'>{}</span></td>\n",
       "<td style='text-align: left;'><i> (default: traitlets.Undefined)</i></td></tr>\n",
       "<tr><th>log_datefmt</th>\n",
       "<td style='text-align: left;'>%Y-%m-%d %H:%M:%S</td>\n",
       "<td style='text-align: left;'><i>The date format used by logging formatters for %(asctime)s (default: %Y-%m-%d %H:%M:%S)</i></td></tr>\n",
       "<tr><th>log_file</th>\n",
       "<td style='text-align: left;'>None</td>\n",
       "<td style='text-align: left;'><i>Filename for the log (default: None)</i></td></tr>\n",
       "<tr><th>log_file_level</th>\n",
       "<td style='text-align: left;'>INFO</td>\n",
       "<td style='text-align: left;'><i>Logging Level for File Logging (default: INFO)</i></td></tr>\n",
       "<tr><th>log_format</th>\n",
       "<td style='text-align: left;'>[%(name)s]%(highlevel)s %(message)s</td>\n",
       "<td style='text-align: left;'><i>The Logging format template (default: [%(name)s]%(highlevel)s %(message)s)</i></td></tr>\n",
       "<tr><th>log_level</th>\n",
       "<td style='text-align: left;'><span style='color:blue; max-width:30em;'>20</span></td>\n",
       "<td style='text-align: left;'><i>Set the log level by value or name. (default: 30)</i></td></tr>\n",
       "<tr><th>logging_config</th>\n",
       "<td style='text-align: left;'><span style='color:blue; max-width:30em;'>{}</span></td>\n",
       "<td style='text-align: left;'><i> (default: traitlets.Undefined)</i></td></tr>\n",
       "<tr><th>max_events</th>\n",
       "<td style='text-align: left;'><span style='color:blue; max-width:30em;'>500</span></td>\n",
       "<td style='text-align: left;'><i>maximum number of events to be loaded (default: None)</i></td></tr>\n",
       "<tr><th>output_path</th>\n",
       "<td style='text-align: left;'><span style='color:blue; max-width:30em;'>/<wbr>data/<wbr>users/<wbr>ggroller/<wbr>NECTARCAM/<wbr>runs/<wbr>waveforms/<wbr>WaveformsNectarCAMCalibration_<wbr>run4943_<wbr>maxevents500.h5</span></td>\n",
       "<td style='text-align: left;'><i>output filename (default: /data/users/ggroller/NECTARCAM/runs/EventsLoopNectarCAMCalibration_run-1.h5)</i></td></tr>\n",
       "<tr><th>overwrite</th>\n",
       "<td style='text-align: left;'>False</td>\n",
       "<td style='text-align: left;'><i> (default: False)</i></td></tr>\n",
       "<tr><th>progress_bar</th>\n",
       "<td style='text-align: left;'><span style='color:blue; max-width:30em;'>True</span></td>\n",
       "<td style='text-align: left;'><i>show progress bar during processing (default: False)</i></td></tr>\n",
       "<tr><th>provenance_log</th>\n",
       "<td style='text-align: left;'><span style='color:blue; max-width:30em;'>/<wbr>home/<wbr>ggroller/<wbr>projects/<wbr>nectarchain/<wbr>notebooks/<wbr>tool_<wbr>implementation/<wbr>WaveformsNectarCAMCalibration.provenance.log</span></td>\n",
       "<td style='text-align: left;'><i> (default: traitlets.Undefined)</i></td></tr>\n",
       "<tr><th>quiet</th>\n",
       "<td style='text-align: left;'>False</td>\n",
       "<td style='text-align: left;'><i> (default: False)</i></td></tr>\n",
       "<tr><th>run_file</th>\n",
       "<td style='text-align: left;'>None</td>\n",
       "<td style='text-align: left;'><i>file name to be loaded (default: None)</i></td></tr>\n",
       "<tr><th>run_number</th>\n",
       "<td style='text-align: left;'><span style='color:blue; max-width:30em;'>4943</span></td>\n",
       "<td style='text-align: left;'><i>run number to be treated (default: -1)</i></td></tr>\n",
       "<tr><th>show_config</th>\n",
       "<td style='text-align: left;'>False</td>\n",
       "<td style='text-align: left;'><i>Instead of starting the Application, dump configuration to stdout (default: False)</i></td></tr>\n",
       "<tr><th>show_config_json</th>\n",
       "<td style='text-align: left;'>False</td>\n",
       "<td style='text-align: left;'><i>Instead of starting the Application, dump configuration to stdout (as JSON) (default: False)</i></td></tr>\n",
       "    </tbody>\n",
       "</table>\n",
       "<p><b>Components:</b>\n",
       "WaveformsNectarCAMCalibrationTool, HDF5TableWriter, LightNectarCAMEventSource, NectarCAMComponent, ChargesComponent, WaveformsComponent, FlatFieldSingleNominalSPENectarCAMComponent, PhotoStatisticNectarCAMComponent, FlatFieldSingleNominalSPEStdNectarCAMComponent, FlatFieldSingleHHVSPENectarCAMComponent, FlatFieldSingleHHVSPEStdNectarCAMComponent, FlatFieldCombinedSPEStdNectarCAMComponent\n",
       "</p>\n",
       "</div>"
      ],
      "text/plain": [
       "<nectarchain.makers.waveformsMakers.WaveformsNectarCAMCalibrationTool at 0x7f0139585fd0>"
      ]
     },
     "execution_count": 4,
     "metadata": {},
     "output_type": "execute_result"
    }
   ],
   "source": [
    "tool = WaveformsNectarCAMCalibrationTool(\n",
    "    progress_bar = True,\n",
    "    run_number = run_number,\n",
    "    max_events = 500,\n",
    "    log_level = 20\n",
    ")\n",
    "tool"
   ]
  },
  {
   "cell_type": "code",
   "execution_count": 5,
   "metadata": {},
   "outputs": [],
   "source": [
    "#tool = ChargesNectarCAMCalibrationTool(progress_bar = True,\n",
    "#                                       method = 'LocalPeakWindowSum',\n",
    "#                                       extractor_kwargs = {\"window_width\": 12, \"window_shift\": 4},\n",
    "#                                       run_number = run_number,\n",
    "#                                       max_events = 500,\n",
    "#                                       log_level = 20\n",
    "#                                       )\n",
    "#tool"
   ]
  },
  {
   "cell_type": "code",
   "execution_count": 6,
   "metadata": {},
   "outputs": [
    {
     "name": "stderr",
     "output_type": "stream",
     "text": [
      "2024-01-12 11:15:04,042 \u001b[1;33mWARNING\u001b[0m [nectarchain.WaveformsNectarCAMCalibration] (loader._handle_unrecognized_alias): Unrecognized alias: 'f', it will have no effect.\n",
      "2024-01-12 11:15:04,046 \u001b[1;32mINFO\u001b[0m [nectarchain.WaveformsNectarCAMCalibration] (tool.initialize): Loading config from '[]'\n",
      "2024-01-12 11:15:04,051 \u001b[1;32mINFO\u001b[0m [nectarchain.WaveformsNectarCAMCalibration] (tool.initialize): ctapipe version 0.19.1\n"
     ]
    }
   ],
   "source": [
    "tool.initialize()"
   ]
  },
  {
   "cell_type": "code",
   "execution_count": 7,
   "metadata": {},
   "outputs": [
    {
     "name": "stderr",
     "output_type": "stream",
     "text": [
      "2024-01-12 11:15:05,442 \u001b[1;32mINFO\u001b[0m [nectarchain.WaveformsNectarCAMCalibration] (core.setup): setup of the Tool\n",
      "2024-01-12 11:15:05,535 \u001b[1;32mINFO\u001b[0m [nectarchain.data.management] (management.findrun): Found 1 files matching /data/users/ggroller/NECTARCAM/runs/NectarCAM.Run4943.*.fits.fz\n",
      "2024-01-12 11:15:05,536 \u001b[1;32mINFO\u001b[0m [nectarchain.makers.core] (core.load_run): /data/users/ggroller/NECTARCAM/runs/NectarCAM.Run4943.*.fits.fz will be loaded\n",
      "2024-01-12 11:15:05,540 \u001b[1;32mINFO\u001b[0m [nectarchain.data.container.eventSource.LightNectarCAMEventSource] (eventsource.__init__): INPUT PATH = /data/users/ggroller/NECTARCAM/runs/NectarCAM.Run4943.0000.fits.fz\n",
      "2024-01-12 11:15:05,540 \u001b[1;32mINFO\u001b[0m [nectarchain.data.container.eventSource.LightNectarCAMEventSource] (eventsource.__init__): Max events being read = 500\n",
      "2024-01-12 11:15:06,093 \u001b[1;32mINFO\u001b[0m [nectarchain.data.container.eventSource.LightNectarCAMEventSource] (__init__.__init__): Read 1 input files\n",
      "2024-01-12 11:15:06,155 ctapipe.io.hdf5tableio.HDF5TableReader WARNING Table /tel_0/calibration is missing column time_correction for field time_correction of container <class 'ctapipe.containers.WaveformCalibrationContainer'>. It will be skipped.\n",
      "2024-01-12 11:15:06,156 ctapipe.io.hdf5tableio.HDF5TableReader WARNING Table /tel_0/calibration is missing column n_pe for field n_pe of container <class 'ctapipe.containers.WaveformCalibrationContainer'>. It will be skipped.\n",
      "2024-01-12 11:15:06,193 ctapipe.io.hdf5tableio.HDF5TableReader WARNING Table /tel_0/flatfield is missing column charge_mean for field charge_mean of container <class 'ctapipe.containers.FlatFieldContainer'>. It will be skipped.\n",
      "2024-01-12 11:15:06,194 ctapipe.io.hdf5tableio.HDF5TableReader WARNING Table /tel_0/flatfield is missing column charge_median for field charge_median of container <class 'ctapipe.containers.FlatFieldContainer'>. It will be skipped.\n",
      "2024-01-12 11:15:06,196 ctapipe.io.hdf5tableio.HDF5TableReader WARNING Table /tel_0/flatfield is missing column charge_std for field charge_std of container <class 'ctapipe.containers.FlatFieldContainer'>. It will be skipped.\n",
      "2024-01-12 11:15:06,196 ctapipe.io.hdf5tableio.HDF5TableReader WARNING Table /tel_0/flatfield is missing column time_mean for field time_mean of container <class 'ctapipe.containers.FlatFieldContainer'>. It will be skipped.\n",
      "2024-01-12 11:15:06,197 ctapipe.io.hdf5tableio.HDF5TableReader WARNING Table /tel_0/flatfield is missing column time_median for field time_median of container <class 'ctapipe.containers.FlatFieldContainer'>. It will be skipped.\n",
      "2024-01-12 11:15:06,198 ctapipe.io.hdf5tableio.HDF5TableReader WARNING Table /tel_0/flatfield is missing column time_std for field time_std of container <class 'ctapipe.containers.FlatFieldContainer'>. It will be skipped.\n",
      "2024-01-12 11:15:06,199 ctapipe.io.hdf5tableio.HDF5TableReader WARNING Table /tel_0/flatfield is missing column relative_gain_median for field relative_gain_median of container <class 'ctapipe.containers.FlatFieldContainer'>. It will be skipped.\n",
      "2024-01-12 11:15:06,199 ctapipe.io.hdf5tableio.HDF5TableReader WARNING Table /tel_0/flatfield is missing column relative_gain_std for field relative_gain_std of container <class 'ctapipe.containers.FlatFieldContainer'>. It will be skipped.\n",
      "2024-01-12 11:15:06,200 ctapipe.io.hdf5tableio.HDF5TableReader WARNING Table /tel_0/flatfield is missing column relative_time_median for field relative_time_median of container <class 'ctapipe.containers.FlatFieldContainer'>. It will be skipped.\n",
      "2024-01-12 11:15:06,201 ctapipe.io.hdf5tableio.HDF5TableReader WARNING Table /tel_0/flatfield is missing column charge_median_outliers for field charge_median_outliers of container <class 'ctapipe.containers.FlatFieldContainer'>. It will be skipped.\n",
      "2024-01-12 11:15:06,202 ctapipe.io.hdf5tableio.HDF5TableReader WARNING Table /tel_0/flatfield is missing column charge_std_outliers for field charge_std_outliers of container <class 'ctapipe.containers.FlatFieldContainer'>. It will be skipped.\n",
      "2024-01-12 11:15:06,203 ctapipe.io.hdf5tableio.HDF5TableReader WARNING Table /tel_0/flatfield is missing column time_median_outliers for field time_median_outliers of container <class 'ctapipe.containers.FlatFieldContainer'>. It will be skipped.\n",
      "2024-01-12 11:15:06,208 \u001b[1;32mINFO\u001b[0m [nectarchain.WaveformsNectarCAMCalibration] (core._setup_components): setup of components\n",
      "2024-01-12 11:15:06,212 \u001b[1;32mINFO\u001b[0m [nectarchain.WaveformsNectarCAMCalibration] (core._init_writer): initilization of writter in full mode\n"
     ]
    }
   ],
   "source": [
    "tool.setup()"
   ]
  },
  {
   "cell_type": "code",
   "execution_count": 8,
   "metadata": {},
   "outputs": [
    {
     "name": "stderr",
     "output_type": "stream",
     "text": [
      "2024-01-12 11:15:07,074 \u001b[1;33mWARNING\u001b[0m [nectarchain.WaveformsNectarCAMCalibration] (core.start): neither needed events number specified or events per slice, it may cause a memory error\n",
      "LightNectarCAMEventSource:   0%|          | 0/500 [00:00<?, ?ev/s]2024-01-12 11:15:07,104 \u001b[1;32mINFO\u001b[0m [nectarchain.makers.component.waveformsComponent] (waveformsComponent._init_trigger_type): initialization of the waveformsMaker following trigger type : FLATFIELD\n",
      "LightNectarCAMEventSource: 100%|██████████| 500/500 [00:16<00:00, 29.43ev/s]\n"
     ]
    }
   ],
   "source": [
    "tool.start()"
   ]
  },
  {
   "cell_type": "code",
   "execution_count": 9,
   "metadata": {},
   "outputs": [
    {
     "name": "stderr",
     "output_type": "stream",
     "text": [
      "2024-01-12 11:15:24,093 \u001b[1;32mINFO\u001b[0m [nectarchain.WaveformsNectarCAMCalibration] (core.finish): finishing Tool\n",
      "2024-01-12 11:15:24,095 \u001b[1;32mINFO\u001b[0m [nectarchain.WaveformsNectarCAMCalibration] (core._finish_components): finishing components and writting to output file\n",
      "2024-01-12 11:15:31,642 \u001b[1;32mINFO\u001b[0m [nectarchain.makers.core] (core._finish_components): [nectarchain.data.container.waveformsContainer.WaveformsContainers:\n",
      "                 containers[*]: trigger or slices of data mapping of\n",
      "                                WaveformContainer with default None]\n",
      "2024-01-12 11:15:49,294 \u001b[1;32mINFO\u001b[0m [nectarchain.WaveformsNectarCAMCalibration] (tool.finish): Goodbye\n",
      "2024-01-12 11:15:49,298 \u001b[1;33mWARNING\u001b[0m [nectarchain.WaveformsNectarCAMCalibration] (core.finish): Shutting down.\n"
     ]
    },
    {
     "data": {
      "text/plain": [
       "nectarchain.data.container.waveformsContainer.WaveformsContainers:\n",
       "                 containers[*]: trigger or slices of data mapping of\n",
       "                                WaveformContainer with default None"
      ]
     },
     "execution_count": 9,
     "metadata": {},
     "output_type": "execute_result"
    }
   ],
   "source": [
    "output = tool.finish(return_output_component=True)[0]\n",
    "output"
   ]
  },
  {
   "cell_type": "code",
   "execution_count": 10,
   "metadata": {},
   "outputs": [
    {
     "data": {
      "text/plain": [
       "Map(nectarchain.data.container.waveformsContainer.WaveformsContainer, {<EventType.FLATFIELD: 0>: nectarchain.data.container.waveformsContainer.WaveformsContainer:\n",
       "                    run_number: run number associated to the waveforms with\n",
       "                                default None with type <class 'numpy.uint16'>\n",
       "                       nevents: number of events with default None with type\n",
       "                                <class 'numpy.uint64'>\n",
       "                       npixels: number of effective pixels with default None\n",
       "                                with type <class 'numpy.uint16'>\n",
       "                     pixels_id: pixel ids with default None as a 1-D array with\n",
       "                                dtype uint16 with type <class 'numpy.ndarray'>\n",
       "              broken_pixels_hg: high gain broken pixels with default None as a\n",
       "                                2-D array with dtype bool with type <class\n",
       "                                'numpy.ndarray'>\n",
       "              broken_pixels_lg: low gain broken pixels with default None as a\n",
       "                                2-D array with dtype bool with type <class\n",
       "                                'numpy.ndarray'>\n",
       "                        camera: camera name with default None with type <class\n",
       "                                'str'>\n",
       "                ucts_timestamp: events ucts timestamp with default None as a 1-D\n",
       "                                array with dtype uint64 with type <class\n",
       "                                'numpy.ndarray'>\n",
       "             ucts_busy_counter: ucts busy counter with default None as a 1-D\n",
       "                                array with dtype uint32 with type <class\n",
       "                                'numpy.ndarray'>\n",
       "            ucts_event_counter: ucts event counter with default None as a 1-D\n",
       "                                array with dtype uint32 with type <class\n",
       "                                'numpy.ndarray'>\n",
       "                    event_type: trigger event type with default None as a 1-D\n",
       "                                array with dtype uint8 with type <class\n",
       "                                'numpy.ndarray'>\n",
       "                      event_id: event ids with default None as a 1-D array with\n",
       "                                dtype uint32 with type <class 'numpy.ndarray'>\n",
       "              trig_pattern_all: trigger pattern with default None as a 3-D array\n",
       "                                with dtype bool with type <class\n",
       "                                'numpy.ndarray'>\n",
       "                  trig_pattern: reduced trigger pattern with default None as a\n",
       "                                2-D array with dtype bool with type <class\n",
       "                                'numpy.ndarray'>\n",
       "                  multiplicity: events multiplicity with default None as a 1-D\n",
       "                                array with dtype uint16 with type <class\n",
       "                                'numpy.ndarray'>\n",
       "                      nsamples: number of samples in the waveforms with default\n",
       "                                None with type <class 'numpy.uint8'>\n",
       "                        wfs_hg: high gain waveforms with default None as a 3-D\n",
       "                                array with dtype uint16 with type <class\n",
       "                                'numpy.ndarray'>\n",
       "                        wfs_lg: low gain waveforms with default None as a 3-D\n",
       "                                array with dtype uint16 with type <class\n",
       "                                'numpy.ndarray'>})"
      ]
     },
     "execution_count": 10,
     "metadata": {},
     "output_type": "execute_result"
    }
   ],
   "source": [
    "output.containers"
   ]
  },
  {
   "cell_type": "code",
   "execution_count": null,
   "metadata": {},
   "outputs": [],
   "source": []
  }
 ],
 "metadata": {
  "kernelspec": {
   "display_name": "nectarchain",
   "language": "python",
   "name": "python3"
  },
  "language_info": {
   "codemirror_mode": {
    "name": "ipython",
    "version": 3
   },
   "file_extension": ".py",
   "mimetype": "text/x-python",
   "name": "python",
   "nbconvert_exporter": "python",
   "pygments_lexer": "ipython3",
   "version": "3.11.5"
  }
 },
 "nbformat": 4,
 "nbformat_minor": 2
}
